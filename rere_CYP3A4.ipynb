{
  "nbformat": 4,
  "nbformat_minor": 0,
  "metadata": {
    "colab": {
      "provenance": []
    },
    "kernelspec": {
      "name": "python3",
      "display_name": "Python 3"
    },
    "language_info": {
      "name": "python"
    },
    "widgets": {
      "application/vnd.jupyter.widget-state+json": {
        "f39099f21ae14eec9fb5cbd024ffc00c": {
          "model_module": "@jupyter-widgets/controls",
          "model_name": "HBoxModel",
          "model_module_version": "1.5.0",
          "state": {
            "_dom_classes": [],
            "_model_module": "@jupyter-widgets/controls",
            "_model_module_version": "1.5.0",
            "_model_name": "HBoxModel",
            "_view_count": null,
            "_view_module": "@jupyter-widgets/controls",
            "_view_module_version": "1.5.0",
            "_view_name": "HBoxView",
            "box_style": "",
            "children": [
              "IPY_MODEL_9db8374dbf1a426492529aa121e2bbf9",
              "IPY_MODEL_646779feba124cd99b01aad45834e1c5",
              "IPY_MODEL_cb4a825a56c54f40ba499029bb80044f"
            ],
            "layout": "IPY_MODEL_4956611376e541c78bf760d991f6626c"
          }
        },
        "9db8374dbf1a426492529aa121e2bbf9": {
          "model_module": "@jupyter-widgets/controls",
          "model_name": "HTMLModel",
          "model_module_version": "1.5.0",
          "state": {
            "_dom_classes": [],
            "_model_module": "@jupyter-widgets/controls",
            "_model_module_version": "1.5.0",
            "_model_name": "HTMLModel",
            "_view_count": null,
            "_view_module": "@jupyter-widgets/controls",
            "_view_module_version": "1.5.0",
            "_view_name": "HTMLView",
            "description": "",
            "description_tooltip": null,
            "layout": "IPY_MODEL_aaba8fa191a94e0b8b59e0361fdc3542",
            "placeholder": "​",
            "style": "IPY_MODEL_7fd50e219fe4407da3ca4d5a2263eb52",
            "value": "Best trial: 1. Best value: 0.572589: 100%"
          }
        },
        "646779feba124cd99b01aad45834e1c5": {
          "model_module": "@jupyter-widgets/controls",
          "model_name": "FloatProgressModel",
          "model_module_version": "1.5.0",
          "state": {
            "_dom_classes": [],
            "_model_module": "@jupyter-widgets/controls",
            "_model_module_version": "1.5.0",
            "_model_name": "FloatProgressModel",
            "_view_count": null,
            "_view_module": "@jupyter-widgets/controls",
            "_view_module_version": "1.5.0",
            "_view_name": "ProgressView",
            "bar_style": "success",
            "description": "",
            "description_tooltip": null,
            "layout": "IPY_MODEL_a96da46b166447cdb9f3e4d532e05bf3",
            "max": 5,
            "min": 0,
            "orientation": "horizontal",
            "style": "IPY_MODEL_f28aa31568f2486cbc7b017df68a84db",
            "value": 5
          }
        },
        "cb4a825a56c54f40ba499029bb80044f": {
          "model_module": "@jupyter-widgets/controls",
          "model_name": "HTMLModel",
          "model_module_version": "1.5.0",
          "state": {
            "_dom_classes": [],
            "_model_module": "@jupyter-widgets/controls",
            "_model_module_version": "1.5.0",
            "_model_name": "HTMLModel",
            "_view_count": null,
            "_view_module": "@jupyter-widgets/controls",
            "_view_module_version": "1.5.0",
            "_view_name": "HTMLView",
            "description": "",
            "description_tooltip": null,
            "layout": "IPY_MODEL_feb2351d220a4375ae56966e99d78f2a",
            "placeholder": "​",
            "style": "IPY_MODEL_c170ae3811ae4065942d55b54f55b417",
            "value": " 5/5 [00:00&lt;00:00, 18.18it/s, 0.25/3600 seconds]"
          }
        },
        "4956611376e541c78bf760d991f6626c": {
          "model_module": "@jupyter-widgets/base",
          "model_name": "LayoutModel",
          "model_module_version": "1.2.0",
          "state": {
            "_model_module": "@jupyter-widgets/base",
            "_model_module_version": "1.2.0",
            "_model_name": "LayoutModel",
            "_view_count": null,
            "_view_module": "@jupyter-widgets/base",
            "_view_module_version": "1.2.0",
            "_view_name": "LayoutView",
            "align_content": null,
            "align_items": null,
            "align_self": null,
            "border": null,
            "bottom": null,
            "display": null,
            "flex": null,
            "flex_flow": null,
            "grid_area": null,
            "grid_auto_columns": null,
            "grid_auto_flow": null,
            "grid_auto_rows": null,
            "grid_column": null,
            "grid_gap": null,
            "grid_row": null,
            "grid_template_areas": null,
            "grid_template_columns": null,
            "grid_template_rows": null,
            "height": null,
            "justify_content": null,
            "justify_items": null,
            "left": null,
            "margin": null,
            "max_height": null,
            "max_width": null,
            "min_height": null,
            "min_width": null,
            "object_fit": null,
            "object_position": null,
            "order": null,
            "overflow": null,
            "overflow_x": null,
            "overflow_y": null,
            "padding": null,
            "right": null,
            "top": null,
            "visibility": null,
            "width": null
          }
        },
        "aaba8fa191a94e0b8b59e0361fdc3542": {
          "model_module": "@jupyter-widgets/base",
          "model_name": "LayoutModel",
          "model_module_version": "1.2.0",
          "state": {
            "_model_module": "@jupyter-widgets/base",
            "_model_module_version": "1.2.0",
            "_model_name": "LayoutModel",
            "_view_count": null,
            "_view_module": "@jupyter-widgets/base",
            "_view_module_version": "1.2.0",
            "_view_name": "LayoutView",
            "align_content": null,
            "align_items": null,
            "align_self": null,
            "border": null,
            "bottom": null,
            "display": null,
            "flex": null,
            "flex_flow": null,
            "grid_area": null,
            "grid_auto_columns": null,
            "grid_auto_flow": null,
            "grid_auto_rows": null,
            "grid_column": null,
            "grid_gap": null,
            "grid_row": null,
            "grid_template_areas": null,
            "grid_template_columns": null,
            "grid_template_rows": null,
            "height": null,
            "justify_content": null,
            "justify_items": null,
            "left": null,
            "margin": null,
            "max_height": null,
            "max_width": null,
            "min_height": null,
            "min_width": null,
            "object_fit": null,
            "object_position": null,
            "order": null,
            "overflow": null,
            "overflow_x": null,
            "overflow_y": null,
            "padding": null,
            "right": null,
            "top": null,
            "visibility": null,
            "width": null
          }
        },
        "7fd50e219fe4407da3ca4d5a2263eb52": {
          "model_module": "@jupyter-widgets/controls",
          "model_name": "DescriptionStyleModel",
          "model_module_version": "1.5.0",
          "state": {
            "_model_module": "@jupyter-widgets/controls",
            "_model_module_version": "1.5.0",
            "_model_name": "DescriptionStyleModel",
            "_view_count": null,
            "_view_module": "@jupyter-widgets/base",
            "_view_module_version": "1.2.0",
            "_view_name": "StyleView",
            "description_width": ""
          }
        },
        "a96da46b166447cdb9f3e4d532e05bf3": {
          "model_module": "@jupyter-widgets/base",
          "model_name": "LayoutModel",
          "model_module_version": "1.2.0",
          "state": {
            "_model_module": "@jupyter-widgets/base",
            "_model_module_version": "1.2.0",
            "_model_name": "LayoutModel",
            "_view_count": null,
            "_view_module": "@jupyter-widgets/base",
            "_view_module_version": "1.2.0",
            "_view_name": "LayoutView",
            "align_content": null,
            "align_items": null,
            "align_self": null,
            "border": null,
            "bottom": null,
            "display": null,
            "flex": null,
            "flex_flow": null,
            "grid_area": null,
            "grid_auto_columns": null,
            "grid_auto_flow": null,
            "grid_auto_rows": null,
            "grid_column": null,
            "grid_gap": null,
            "grid_row": null,
            "grid_template_areas": null,
            "grid_template_columns": null,
            "grid_template_rows": null,
            "height": null,
            "justify_content": null,
            "justify_items": null,
            "left": null,
            "margin": null,
            "max_height": null,
            "max_width": null,
            "min_height": null,
            "min_width": null,
            "object_fit": null,
            "object_position": null,
            "order": null,
            "overflow": null,
            "overflow_x": null,
            "overflow_y": null,
            "padding": null,
            "right": null,
            "top": null,
            "visibility": null,
            "width": null
          }
        },
        "f28aa31568f2486cbc7b017df68a84db": {
          "model_module": "@jupyter-widgets/controls",
          "model_name": "ProgressStyleModel",
          "model_module_version": "1.5.0",
          "state": {
            "_model_module": "@jupyter-widgets/controls",
            "_model_module_version": "1.5.0",
            "_model_name": "ProgressStyleModel",
            "_view_count": null,
            "_view_module": "@jupyter-widgets/base",
            "_view_module_version": "1.2.0",
            "_view_name": "StyleView",
            "bar_color": null,
            "description_width": ""
          }
        },
        "feb2351d220a4375ae56966e99d78f2a": {
          "model_module": "@jupyter-widgets/base",
          "model_name": "LayoutModel",
          "model_module_version": "1.2.0",
          "state": {
            "_model_module": "@jupyter-widgets/base",
            "_model_module_version": "1.2.0",
            "_model_name": "LayoutModel",
            "_view_count": null,
            "_view_module": "@jupyter-widgets/base",
            "_view_module_version": "1.2.0",
            "_view_name": "LayoutView",
            "align_content": null,
            "align_items": null,
            "align_self": null,
            "border": null,
            "bottom": null,
            "display": null,
            "flex": null,
            "flex_flow": null,
            "grid_area": null,
            "grid_auto_columns": null,
            "grid_auto_flow": null,
            "grid_auto_rows": null,
            "grid_column": null,
            "grid_gap": null,
            "grid_row": null,
            "grid_template_areas": null,
            "grid_template_columns": null,
            "grid_template_rows": null,
            "height": null,
            "justify_content": null,
            "justify_items": null,
            "left": null,
            "margin": null,
            "max_height": null,
            "max_width": null,
            "min_height": null,
            "min_width": null,
            "object_fit": null,
            "object_position": null,
            "order": null,
            "overflow": null,
            "overflow_x": null,
            "overflow_y": null,
            "padding": null,
            "right": null,
            "top": null,
            "visibility": null,
            "width": null
          }
        },
        "c170ae3811ae4065942d55b54f55b417": {
          "model_module": "@jupyter-widgets/controls",
          "model_name": "DescriptionStyleModel",
          "model_module_version": "1.5.0",
          "state": {
            "_model_module": "@jupyter-widgets/controls",
            "_model_module_version": "1.5.0",
            "_model_name": "DescriptionStyleModel",
            "_view_count": null,
            "_view_module": "@jupyter-widgets/base",
            "_view_module_version": "1.2.0",
            "_view_name": "StyleView",
            "description_width": ""
          }
        },
        "1833d87e2eee4de1a785ecd70d105243": {
          "model_module": "@jupyter-widgets/controls",
          "model_name": "HBoxModel",
          "model_module_version": "1.5.0",
          "state": {
            "_dom_classes": [],
            "_model_module": "@jupyter-widgets/controls",
            "_model_module_version": "1.5.0",
            "_model_name": "HBoxModel",
            "_view_count": null,
            "_view_module": "@jupyter-widgets/controls",
            "_view_module_version": "1.5.0",
            "_view_name": "HBoxView",
            "box_style": "",
            "children": [
              "IPY_MODEL_42add5444722486aab8efe676d44ebcf",
              "IPY_MODEL_caf3a8518a1d417690cc9f0e24457b46",
              "IPY_MODEL_71611923e03645fa93d06bec8a57851e"
            ],
            "layout": "IPY_MODEL_18c71fb3155d4b4ca899e004c650ca5b"
          }
        },
        "42add5444722486aab8efe676d44ebcf": {
          "model_module": "@jupyter-widgets/controls",
          "model_name": "HTMLModel",
          "model_module_version": "1.5.0",
          "state": {
            "_dom_classes": [],
            "_model_module": "@jupyter-widgets/controls",
            "_model_module_version": "1.5.0",
            "_model_name": "HTMLModel",
            "_view_count": null,
            "_view_module": "@jupyter-widgets/controls",
            "_view_module_version": "1.5.0",
            "_view_name": "HTMLView",
            "description": "",
            "description_tooltip": null,
            "layout": "IPY_MODEL_ad9699eedeee4a4a8f7d5d7bd1b3bfcd",
            "placeholder": "​",
            "style": "IPY_MODEL_ce84e2f7d75f4229b0bc1ef1bb4e65c5",
            "value": "Best trial: 179. Best value: 0.591514: 100%"
          }
        },
        "caf3a8518a1d417690cc9f0e24457b46": {
          "model_module": "@jupyter-widgets/controls",
          "model_name": "FloatProgressModel",
          "model_module_version": "1.5.0",
          "state": {
            "_dom_classes": [],
            "_model_module": "@jupyter-widgets/controls",
            "_model_module_version": "1.5.0",
            "_model_name": "FloatProgressModel",
            "_view_count": null,
            "_view_module": "@jupyter-widgets/controls",
            "_view_module_version": "1.5.0",
            "_view_name": "ProgressView",
            "bar_style": "success",
            "description": "",
            "description_tooltip": null,
            "layout": "IPY_MODEL_8bcbae8b0ec444639a1abd6107442a88",
            "max": 200,
            "min": 0,
            "orientation": "horizontal",
            "style": "IPY_MODEL_b4e31454e46846fca349965df1ac637f",
            "value": 200
          }
        },
        "71611923e03645fa93d06bec8a57851e": {
          "model_module": "@jupyter-widgets/controls",
          "model_name": "HTMLModel",
          "model_module_version": "1.5.0",
          "state": {
            "_dom_classes": [],
            "_model_module": "@jupyter-widgets/controls",
            "_model_module_version": "1.5.0",
            "_model_name": "HTMLModel",
            "_view_count": null,
            "_view_module": "@jupyter-widgets/controls",
            "_view_module_version": "1.5.0",
            "_view_name": "HTMLView",
            "description": "",
            "description_tooltip": null,
            "layout": "IPY_MODEL_8e1091d49e77412fa9c62727d84afd9d",
            "placeholder": "​",
            "style": "IPY_MODEL_6f18b63fa76a4e0e85e3998d06d963de",
            "value": " 200/200 [00:08&lt;00:00, 23.90it/s, 8.29/10800 seconds]"
          }
        },
        "18c71fb3155d4b4ca899e004c650ca5b": {
          "model_module": "@jupyter-widgets/base",
          "model_name": "LayoutModel",
          "model_module_version": "1.2.0",
          "state": {
            "_model_module": "@jupyter-widgets/base",
            "_model_module_version": "1.2.0",
            "_model_name": "LayoutModel",
            "_view_count": null,
            "_view_module": "@jupyter-widgets/base",
            "_view_module_version": "1.2.0",
            "_view_name": "LayoutView",
            "align_content": null,
            "align_items": null,
            "align_self": null,
            "border": null,
            "bottom": null,
            "display": null,
            "flex": null,
            "flex_flow": null,
            "grid_area": null,
            "grid_auto_columns": null,
            "grid_auto_flow": null,
            "grid_auto_rows": null,
            "grid_column": null,
            "grid_gap": null,
            "grid_row": null,
            "grid_template_areas": null,
            "grid_template_columns": null,
            "grid_template_rows": null,
            "height": null,
            "justify_content": null,
            "justify_items": null,
            "left": null,
            "margin": null,
            "max_height": null,
            "max_width": null,
            "min_height": null,
            "min_width": null,
            "object_fit": null,
            "object_position": null,
            "order": null,
            "overflow": null,
            "overflow_x": null,
            "overflow_y": null,
            "padding": null,
            "right": null,
            "top": null,
            "visibility": null,
            "width": null
          }
        },
        "ad9699eedeee4a4a8f7d5d7bd1b3bfcd": {
          "model_module": "@jupyter-widgets/base",
          "model_name": "LayoutModel",
          "model_module_version": "1.2.0",
          "state": {
            "_model_module": "@jupyter-widgets/base",
            "_model_module_version": "1.2.0",
            "_model_name": "LayoutModel",
            "_view_count": null,
            "_view_module": "@jupyter-widgets/base",
            "_view_module_version": "1.2.0",
            "_view_name": "LayoutView",
            "align_content": null,
            "align_items": null,
            "align_self": null,
            "border": null,
            "bottom": null,
            "display": null,
            "flex": null,
            "flex_flow": null,
            "grid_area": null,
            "grid_auto_columns": null,
            "grid_auto_flow": null,
            "grid_auto_rows": null,
            "grid_column": null,
            "grid_gap": null,
            "grid_row": null,
            "grid_template_areas": null,
            "grid_template_columns": null,
            "grid_template_rows": null,
            "height": null,
            "justify_content": null,
            "justify_items": null,
            "left": null,
            "margin": null,
            "max_height": null,
            "max_width": null,
            "min_height": null,
            "min_width": null,
            "object_fit": null,
            "object_position": null,
            "order": null,
            "overflow": null,
            "overflow_x": null,
            "overflow_y": null,
            "padding": null,
            "right": null,
            "top": null,
            "visibility": null,
            "width": null
          }
        },
        "ce84e2f7d75f4229b0bc1ef1bb4e65c5": {
          "model_module": "@jupyter-widgets/controls",
          "model_name": "DescriptionStyleModel",
          "model_module_version": "1.5.0",
          "state": {
            "_model_module": "@jupyter-widgets/controls",
            "_model_module_version": "1.5.0",
            "_model_name": "DescriptionStyleModel",
            "_view_count": null,
            "_view_module": "@jupyter-widgets/base",
            "_view_module_version": "1.2.0",
            "_view_name": "StyleView",
            "description_width": ""
          }
        },
        "8bcbae8b0ec444639a1abd6107442a88": {
          "model_module": "@jupyter-widgets/base",
          "model_name": "LayoutModel",
          "model_module_version": "1.2.0",
          "state": {
            "_model_module": "@jupyter-widgets/base",
            "_model_module_version": "1.2.0",
            "_model_name": "LayoutModel",
            "_view_count": null,
            "_view_module": "@jupyter-widgets/base",
            "_view_module_version": "1.2.0",
            "_view_name": "LayoutView",
            "align_content": null,
            "align_items": null,
            "align_self": null,
            "border": null,
            "bottom": null,
            "display": null,
            "flex": null,
            "flex_flow": null,
            "grid_area": null,
            "grid_auto_columns": null,
            "grid_auto_flow": null,
            "grid_auto_rows": null,
            "grid_column": null,
            "grid_gap": null,
            "grid_row": null,
            "grid_template_areas": null,
            "grid_template_columns": null,
            "grid_template_rows": null,
            "height": null,
            "justify_content": null,
            "justify_items": null,
            "left": null,
            "margin": null,
            "max_height": null,
            "max_width": null,
            "min_height": null,
            "min_width": null,
            "object_fit": null,
            "object_position": null,
            "order": null,
            "overflow": null,
            "overflow_x": null,
            "overflow_y": null,
            "padding": null,
            "right": null,
            "top": null,
            "visibility": null,
            "width": null
          }
        },
        "b4e31454e46846fca349965df1ac637f": {
          "model_module": "@jupyter-widgets/controls",
          "model_name": "ProgressStyleModel",
          "model_module_version": "1.5.0",
          "state": {
            "_model_module": "@jupyter-widgets/controls",
            "_model_module_version": "1.5.0",
            "_model_name": "ProgressStyleModel",
            "_view_count": null,
            "_view_module": "@jupyter-widgets/base",
            "_view_module_version": "1.2.0",
            "_view_name": "StyleView",
            "bar_color": null,
            "description_width": ""
          }
        },
        "8e1091d49e77412fa9c62727d84afd9d": {
          "model_module": "@jupyter-widgets/base",
          "model_name": "LayoutModel",
          "model_module_version": "1.2.0",
          "state": {
            "_model_module": "@jupyter-widgets/base",
            "_model_module_version": "1.2.0",
            "_model_name": "LayoutModel",
            "_view_count": null,
            "_view_module": "@jupyter-widgets/base",
            "_view_module_version": "1.2.0",
            "_view_name": "LayoutView",
            "align_content": null,
            "align_items": null,
            "align_self": null,
            "border": null,
            "bottom": null,
            "display": null,
            "flex": null,
            "flex_flow": null,
            "grid_area": null,
            "grid_auto_columns": null,
            "grid_auto_flow": null,
            "grid_auto_rows": null,
            "grid_column": null,
            "grid_gap": null,
            "grid_row": null,
            "grid_template_areas": null,
            "grid_template_columns": null,
            "grid_template_rows": null,
            "height": null,
            "justify_content": null,
            "justify_items": null,
            "left": null,
            "margin": null,
            "max_height": null,
            "max_width": null,
            "min_height": null,
            "min_width": null,
            "object_fit": null,
            "object_position": null,
            "order": null,
            "overflow": null,
            "overflow_x": null,
            "overflow_y": null,
            "padding": null,
            "right": null,
            "top": null,
            "visibility": null,
            "width": null
          }
        },
        "6f18b63fa76a4e0e85e3998d06d963de": {
          "model_module": "@jupyter-widgets/controls",
          "model_name": "DescriptionStyleModel",
          "model_module_version": "1.5.0",
          "state": {
            "_model_module": "@jupyter-widgets/controls",
            "_model_module_version": "1.5.0",
            "_model_name": "DescriptionStyleModel",
            "_view_count": null,
            "_view_module": "@jupyter-widgets/base",
            "_view_module_version": "1.2.0",
            "_view_name": "StyleView",
            "description_width": ""
          }
        }
      }
    }
  },
  "cells": [
    {
      "cell_type": "code",
      "execution_count": null,
      "metadata": {
        "id": "16NthkpbCALw",
        "colab": {
          "base_uri": "https://localhost:8080/"
        },
        "outputId": "37b7ae23-8e3d-4cd3-b33d-2c00601c637a"
      },
      "outputs": [
        {
          "output_type": "stream",
          "name": "stdout",
          "text": [
            "\u001b[?25l   \u001b[90m━━━━━━━━━━━━━━━━━━━━━━━━━━━━━━━━━━━━━━━━\u001b[0m \u001b[32m0.0/6.0 MB\u001b[0m \u001b[31m?\u001b[0m eta \u001b[36m-:--:--\u001b[0m\r\u001b[2K   \u001b[91m━━━━━━━━━━━━━━━━━━━━━━━━━━━━━\u001b[0m\u001b[90m╺\u001b[0m\u001b[90m━━━━━━━━━━\u001b[0m \u001b[32m4.3/6.0 MB\u001b[0m \u001b[31m109.1 MB/s\u001b[0m eta \u001b[36m0:00:01\u001b[0m\r\u001b[2K   \u001b[91m━━━━━━━━━━━━━━━━━━━━━━━━━━━━━━━━━━━━━━━\u001b[0m\u001b[91m╸\u001b[0m \u001b[32m5.9/6.0 MB\u001b[0m \u001b[31m110.0 MB/s\u001b[0m eta \u001b[36m0:00:01\u001b[0m\r\u001b[2K   \u001b[90m━━━━━━━━━━━━━━━━━━━━━━━━━━━━━━━━━━━━━━━━\u001b[0m \u001b[32m6.0/6.0 MB\u001b[0m \u001b[31m71.7 MB/s\u001b[0m eta \u001b[36m0:00:00\u001b[0m\n",
            "\u001b[2K   \u001b[90m━━━━━━━━━━━━━━━━━━━━━━━━━━━━━━━━━━━━━━━━\u001b[0m \u001b[32m226.1/226.1 kB\u001b[0m \u001b[31m16.5 MB/s\u001b[0m eta \u001b[36m0:00:00\u001b[0m\n",
            "\u001b[2K   \u001b[90m━━━━━━━━━━━━━━━━━━━━━━━━━━━━━━━━━━━━━━━━\u001b[0m \u001b[32m29.4/29.4 MB\u001b[0m \u001b[31m60.7 MB/s\u001b[0m eta \u001b[36m0:00:00\u001b[0m\n",
            "\u001b[2K   \u001b[90m━━━━━━━━━━━━━━━━━━━━━━━━━━━━━━━━━━━━━━━━\u001b[0m \u001b[32m3.6/3.6 MB\u001b[0m \u001b[31m91.5 MB/s\u001b[0m eta \u001b[36m0:00:00\u001b[0m\n",
            "\u001b[?25hCollecting optuna\n",
            "  Downloading optuna-4.4.0-py3-none-any.whl.metadata (17 kB)\n",
            "Collecting alembic>=1.5.0 (from optuna)\n",
            "  Downloading alembic-1.16.4-py3-none-any.whl.metadata (7.3 kB)\n",
            "Collecting colorlog (from optuna)\n",
            "  Downloading colorlog-6.9.0-py3-none-any.whl.metadata (10 kB)\n",
            "Requirement already satisfied: numpy in /usr/local/lib/python3.11/dist-packages (from optuna) (2.0.2)\n",
            "Requirement already satisfied: packaging>=20.0 in /usr/local/lib/python3.11/dist-packages (from optuna) (24.2)\n",
            "Requirement already satisfied: sqlalchemy>=1.4.2 in /usr/local/lib/python3.11/dist-packages (from optuna) (2.0.41)\n",
            "Requirement already satisfied: tqdm in /usr/local/lib/python3.11/dist-packages (from optuna) (4.67.1)\n",
            "Requirement already satisfied: PyYAML in /usr/local/lib/python3.11/dist-packages (from optuna) (6.0.2)\n",
            "Requirement already satisfied: Mako in /usr/lib/python3/dist-packages (from alembic>=1.5.0->optuna) (1.1.3)\n",
            "Requirement already satisfied: typing-extensions>=4.12 in /usr/local/lib/python3.11/dist-packages (from alembic>=1.5.0->optuna) (4.14.1)\n",
            "Requirement already satisfied: greenlet>=1 in /usr/local/lib/python3.11/dist-packages (from sqlalchemy>=1.4.2->optuna) (3.2.3)\n",
            "Downloading optuna-4.4.0-py3-none-any.whl (395 kB)\n",
            "\u001b[2K   \u001b[90m━━━━━━━━━━━━━━━━━━━━━━━━━━━━━━━━━━━━━━━━\u001b[0m \u001b[32m395.9/395.9 kB\u001b[0m \u001b[31m24.9 MB/s\u001b[0m eta \u001b[36m0:00:00\u001b[0m\n",
            "\u001b[?25hDownloading alembic-1.16.4-py3-none-any.whl (247 kB)\n",
            "\u001b[2K   \u001b[90m━━━━━━━━━━━━━━━━━━━━━━━━━━━━━━━━━━━━━━━━\u001b[0m \u001b[32m247.0/247.0 kB\u001b[0m \u001b[31m17.7 MB/s\u001b[0m eta \u001b[36m0:00:00\u001b[0m\n",
            "\u001b[?25hDownloading colorlog-6.9.0-py3-none-any.whl (11 kB)\n",
            "Installing collected packages: colorlog, alembic, optuna\n",
            "Successfully installed alembic-1.16.4 colorlog-6.9.0 optuna-4.4.0\n"
          ]
        }
      ],
      "source": [
        "!pip install --quiet --upgrade \\\n",
        "    dgl==1.1.2 dgllife==0.3.2 rdkit-pypi==2022.9.5 lightgbm\n",
        "\n",
        "# Optuna\n",
        "!pip install optuna"
      ]
    },
    {
      "cell_type": "code",
      "source": [
        "import os\n",
        "import numpy as np\n",
        "import pandas as pd\n",
        "import torch\n",
        "from torch.utils.data import DataLoader\n",
        "import dgl\n",
        "from sklearn.model_selection import GroupKFold\n",
        "from sklearn.ensemble import StackingRegressor, GradientBoostingRegressor\n",
        "from sklearn.metrics import mean_squared_error, r2_score\n",
        "from rdkit import Chem\n",
        "from rdkit.Chem.Scaffolds import MurckoScaffold\n",
        "from rdkit.Chem import Descriptors\n",
        "from dgllife.model import GINPredictor\n",
        "from dgllife.utils import mol_to_bigraph, PretrainAtomFeaturizer"
      ],
      "metadata": {
        "id": "fD_AsIotCYEr"
      },
      "execution_count": null,
      "outputs": []
    },
    {
      "cell_type": "code",
      "source": [
        "# --- Configuration ---\n",
        "device = torch.device('cuda' if torch.cuda.is_available() else 'cpu')"
      ],
      "metadata": {
        "id": "jB7UlwzZCGzA"
      },
      "execution_count": null,
      "outputs": []
    },
    {
      "cell_type": "code",
      "source": [
        "# drive 연결\n",
        "\n",
        "from google.colab import drive\n",
        "drive.mount('/content/drive')"
      ],
      "metadata": {
        "colab": {
          "base_uri": "https://localhost:8080/"
        },
        "id": "3YU_bBgPdScl",
        "outputId": "231e8237-bbff-442d-d8f9-fe6bae25907c"
      },
      "execution_count": null,
      "outputs": [
        {
          "output_type": "stream",
          "name": "stdout",
          "text": [
            "Mounted at /content/drive\n"
          ]
        }
      ]
    },
    {
      "cell_type": "code",
      "source": [
        "# 1. Load data\n",
        "data_dir = '/content/drive/MyDrive/DACON/CYP3A4inh/'\n",
        "\n",
        "train = pd.read_csv(os.path.join(data_dir, 'train.csv'))\n",
        "test = pd.read_csv(os.path.join(data_dir, 'test.csv'))"
      ],
      "metadata": {
        "id": "TwnCmyyyCQ0w"
      },
      "execution_count": null,
      "outputs": []
    },
    {
      "cell_type": "code",
      "source": [
        "import os\n",
        "import numpy as np\n",
        "import pandas as pd\n",
        "import pickle\n",
        "import torch\n",
        "import torch.nn as nn\n",
        "import torch.nn.functional as F\n",
        "\n",
        "from rdkit import Chem\n",
        "from rdkit.Chem import Descriptors, AllChem, MACCSkeys, Lipinski\n",
        "from rdkit.Chem import rdMolDescriptors\n",
        "from rdkit.Chem.Scaffolds import MurckoScaffold\n",
        "from rdkit.Chem.EState import Fingerprinter\n",
        "\n",
        "from sklearn.model_selection import GroupKFold\n",
        "from sklearn.metrics import mean_squared_error\n",
        "from scipy.stats import pearsonr\n",
        "from sklearn.compose import ColumnTransformer\n",
        "from sklearn.preprocessing import StandardScaler, MinMaxScaler, Normalizer\n",
        "from sklearn.pipeline import Pipeline\n",
        "\n",
        "import optuna\n",
        "from optuna.pruners import MedianPruner\n",
        "from lightgbm import LGBMRegressor\n",
        "from xgboost import XGBRegressor\n",
        "from transformers import AutoTokenizer, AutoModel\n",
        "\n",
        "import dgl\n",
        "from dgl.nn import GINConv, SumPooling\n",
        "from dgllife.model import GINPredictor\n",
        "from dgllife.utils import mol_to_bigraph, PretrainAtomFeaturizer, CanonicalAtomFeaturizer\n",
        "\n",
        "# 데이터 디렉토리\n",
        "data_dir = '/content/drive/MyDrive/DACON/CYP3A4inh/'\n",
        "os.makedirs(data_dir, exist_ok=True)"
      ],
      "metadata": {
        "id": "bVDtYp3MIn_z"
      },
      "execution_count": null,
      "outputs": []
    },
    {
      "cell_type": "code",
      "source": [
        "# --- SMILES Augmentation ---\n",
        "train['orig_id'] = np.arange(len(train))\n",
        "augment_ratio = 20\n",
        "augmented = []\n",
        "for _, row in train.iterrows():\n",
        "    smiles = row['Canonical_Smiles']\n",
        "    mol = Chem.MolFromSmiles(smiles)\n",
        "    if mol is None:\n",
        "        continue\n",
        "    base_dict = row.to_dict()\n",
        "    augmented.append(base_dict)\n",
        "    for _ in range(augment_ratio):\n",
        "        aug_smiles = Chem.MolToSmiles(mol, doRandom=True)\n",
        "        new_row = base_dict.copy()\n",
        "        new_row['Canonical_Smiles'] = aug_smiles\n",
        "        augmented.append(new_row)\n",
        "train = pd.DataFrame(augmented).reset_index(drop=True)\n",
        "groups = train['orig_id'].values  # GroupKFold용\n",
        "\n",
        "# --- Extra Descriptors ---\n",
        "extra_descs = [Descriptors.HeavyAtomCount, Descriptors.RingCount,\n",
        "               Descriptors.FractionCSP3, Descriptors.NumRotatableBonds]\n",
        "for f in extra_descs:\n",
        "    train[f.__name__] = train['Canonical_Smiles'].apply(lambda s: f(Chem.MolFromSmiles(s)))\n",
        "    test[f.__name__] = test['Canonical_Smiles'].apply(lambda s: f(Chem.MolFromSmiles(s)))"
      ],
      "metadata": {
        "id": "GvhYl7RWBkvO"
      },
      "execution_count": null,
      "outputs": []
    },
    {
      "cell_type": "code",
      "source": [
        "# --- ECFP ---\n",
        "def get_ecfp(s, radius=2, n_bits=2048):\n",
        "    try:\n",
        "        mol = Chem.MolFromSmiles(s)\n",
        "        if mol is None:\n",
        "            return [0] * n_bits\n",
        "        bitvect = AllChem.GetMorganFingerprintAsBitVect(\n",
        "            mol, radius=radius, nBits=n_bits\n",
        "        )\n",
        "        return [int(bit) for bit in bitvect]\n",
        "\n",
        "    except Exception:\n",
        "        return [0] * n_bits\n",
        "\n",
        "train_ecfp = pd.DataFrame(train['Canonical_Smiles'].apply(get_ecfp).tolist(), columns=[f'FP_{i}' for i in range(2048)])\n",
        "test_ecfp = pd.DataFrame(test['Canonical_Smiles'].apply(get_ecfp).tolist(), columns=[f'FP_{i}' for i in range(2048)])\n",
        "\n",
        "train = pd.concat([train, train_ecfp], axis=1)\n",
        "test = pd.concat([test, test_ecfp], axis=1)\n",
        "\n",
        "# --- 분자 특성 추가 ---\n",
        "def get_molecule_descriptors(smiles):\n",
        "    try:\n",
        "        mol = Chem.MolFromSmiles(smiles)\n",
        "        if mol is None:\n",
        "            return [0] * 2300  # 새 길이에 맞게 늘려주세요\n",
        "\n",
        "        # 1) 기본 descriptors\n",
        "        basic = [\n",
        "            Descriptors.MolWt(mol),\n",
        "            Descriptors.MolLogP(mol),\n",
        "            Descriptors.NumHAcceptors(mol),\n",
        "            Descriptors.NumHDonors(mol),\n",
        "            Descriptors.TPSA(mol),\n",
        "            Descriptors.NumRotatableBonds(mol),\n",
        "            Descriptors.NumAromaticRings(mol),\n",
        "            Descriptors.NumHeteroatoms(mol),\n",
        "            Descriptors.FractionCSP3(mol),\n",
        "            Descriptors.NumAliphaticRings(mol),\n",
        "            Lipinski.NumAromaticHeterocycles(mol),\n",
        "            Lipinski.NumSaturatedHeterocycles(mol),\n",
        "            Lipinski.NumAliphaticHeterocycles(mol),\n",
        "            Descriptors.HeavyAtomCount(mol),\n",
        "            Descriptors.RingCount(mol),\n",
        "            Descriptors.NOCount(mol),\n",
        "            Descriptors.NHOHCount(mol),\n",
        "            Descriptors.NumRadicalElectrons(mol),\n",
        "        ]\n",
        "\n",
        "        # 2) PEOE_VSA (14차원)\n",
        "        vsa = list(rdMolDescriptors.PEOE_VSA_Fingerprint(mol))\n",
        "\n",
        "        # 3) EState indices\n",
        "        estate = list(Fingerprinter.FingerprintMol(mol))\n",
        "\n",
        "        # 4) Topological descriptors\n",
        "        balaban = [rdMolDescriptors.CalcBalabanJ(mol)]\n",
        "        wiener  = [rdMolDescriptors.CalcWienerIndex(mol)]\n",
        "\n",
        "        # 5) Morgan + MACCS\n",
        "        morgan_bits = AllChem.GetMorganFingerprintAsBitVect(mol, radius=2, nBits=2048)\n",
        "        morgan = [int(b) for b in morgan_bits.ToBitString()]\n",
        "        maccs_bits = MACCSkeys.GenMACCSKeys(mol)\n",
        "        maccs  = [int(b) for b in maccs_bits.ToBitString()]\n",
        "\n",
        "        # 합치기\n",
        "        all_feats = basic + vsa + estate + balaban + wiener + morgan + maccs\n",
        "        return all_feats\n",
        "\n",
        "    except:\n",
        "        return [0] * 2300\n",
        "\n",
        "print(\"get_molecule_descriptors 추출 중...\")\n",
        "train_desc = np.array(train['Canonical_Smiles'].apply(get_molecule_descriptors).tolist())\n",
        "test_desc = np.array(test['Canonical_Smiles'].apply(get_molecule_descriptors).tolist())"
      ],
      "metadata": {
        "colab": {
          "base_uri": "https://localhost:8080/"
        },
        "id": "PVEcAzpxIR8F",
        "outputId": "7a01f401-f20b-4481-ce82-e0ec0094fe9f"
      },
      "execution_count": null,
      "outputs": [
        {
          "output_type": "stream",
          "name": "stdout",
          "text": [
            "get_molecule_descriptors 추출 중...\n"
          ]
        }
      ]
    },
    {
      "cell_type": "code",
      "source": [
        "np.save(os.path.join(data_dir, 'train_desc.npy'), train_desc)\n",
        "np.save(os.path.join(data_dir, 'test_desc.npy'), test_desc)"
      ],
      "metadata": {
        "id": "4lhC1y2IMGMM"
      },
      "execution_count": null,
      "outputs": []
    },
    {
      "cell_type": "code",
      "source": [
        "train_desc = np.load(os.path.join(data_dir, 'train_desc.npy'))\n",
        "test_desc = np.load(os.path.join(data_dir, 'test_desc.npy'))"
      ],
      "metadata": {
        "id": "ROegk1GaL5M9"
      },
      "execution_count": null,
      "outputs": []
    },
    {
      "cell_type": "code",
      "source": [
        "# --- ChemBERTa Embedding ---\n",
        "tokenizer = AutoTokenizer.from_pretrained('seyonec/ChemBERTa-zinc-base-v1')\n",
        "model = AutoModel.from_pretrained('seyonec/ChemBERTa-zinc-base-v1')\n",
        "model.eval()\n",
        "\n",
        "def compute_smiles_embedding(smiles_list, batch_size=32):\n",
        "    embs = []\n",
        "    with torch.no_grad():\n",
        "        for i in range(0, len(smiles_list), batch_size):\n",
        "            toks = tokenizer(smiles_list[i:i+batch_size], return_tensors='pt', padding=True)\n",
        "            out = model(**toks)\n",
        "            embs.append(out.last_hidden_state[:,0,:].cpu().numpy())\n",
        "    return np.vstack(embs)\n",
        "\n",
        "train_smiles = train['Canonical_Smiles'].tolist()\n",
        "train_emb = compute_smiles_embedding(train_smiles)\n",
        "np.save(os.path.join(data_dir, 'train_emb.npy'), train_emb)\n",
        "print('Train embeddings saved.')\n",
        "\n",
        "test_smiles = test['Canonical_Smiles'].tolist()\n",
        "test_emb = compute_smiles_embedding(test_smiles)\n",
        "np.save(os.path.join(data_dir, 'test_emb.npy'), test_emb)\n",
        "print('Test embeddings saved.')\n"
      ],
      "metadata": {
        "colab": {
          "base_uri": "https://localhost:8080/",
          "height": 391
        },
        "id": "CXfQ_6pVCAZE",
        "outputId": "2ae39da9-d86c-4815-f4fe-7e29f7d80c9d"
      },
      "execution_count": null,
      "outputs": [
        {
          "output_type": "error",
          "ename": "KeyboardInterrupt",
          "evalue": "",
          "traceback": [
            "\u001b[0;31m---------------------------------------------------------------------------\u001b[0m",
            "\u001b[0;31mKeyboardInterrupt\u001b[0m                         Traceback (most recent call last)",
            "\u001b[0;32m/tmp/ipython-input-13-1980162852.py\u001b[0m in \u001b[0;36m<cell line: 0>\u001b[0;34m()\u001b[0m\n\u001b[1;32m     14\u001b[0m \u001b[0;34m\u001b[0m\u001b[0m\n\u001b[1;32m     15\u001b[0m \u001b[0mtrain_smiles\u001b[0m \u001b[0;34m=\u001b[0m \u001b[0mtrain\u001b[0m\u001b[0;34m[\u001b[0m\u001b[0;34m'Canonical_Smiles'\u001b[0m\u001b[0;34m]\u001b[0m\u001b[0;34m.\u001b[0m\u001b[0mtolist\u001b[0m\u001b[0;34m(\u001b[0m\u001b[0;34m)\u001b[0m\u001b[0;34m\u001b[0m\u001b[0;34m\u001b[0m\u001b[0m\n\u001b[0;32m---> 16\u001b[0;31m \u001b[0mtrain_emb\u001b[0m \u001b[0;34m=\u001b[0m \u001b[0mcompute_smiles_embedding\u001b[0m\u001b[0;34m(\u001b[0m\u001b[0mtrain_smiles\u001b[0m\u001b[0;34m)\u001b[0m\u001b[0;34m\u001b[0m\u001b[0;34m\u001b[0m\u001b[0m\n\u001b[0m\u001b[1;32m     17\u001b[0m \u001b[0mnp\u001b[0m\u001b[0;34m.\u001b[0m\u001b[0msave\u001b[0m\u001b[0;34m(\u001b[0m\u001b[0mos\u001b[0m\u001b[0;34m.\u001b[0m\u001b[0mpath\u001b[0m\u001b[0;34m.\u001b[0m\u001b[0mjoin\u001b[0m\u001b[0;34m(\u001b[0m\u001b[0mdata_dir\u001b[0m\u001b[0;34m,\u001b[0m \u001b[0;34m'train_emb.npy'\u001b[0m\u001b[0;34m)\u001b[0m\u001b[0;34m,\u001b[0m \u001b[0mtrain_emb\u001b[0m\u001b[0;34m)\u001b[0m\u001b[0;34m\u001b[0m\u001b[0;34m\u001b[0m\u001b[0m\n\u001b[1;32m     18\u001b[0m \u001b[0mprint\u001b[0m\u001b[0;34m(\u001b[0m\u001b[0;34m'Train embeddings saved.'\u001b[0m\u001b[0;34m)\u001b[0m\u001b[0;34m\u001b[0m\u001b[0;34m\u001b[0m\u001b[0m\n",
            "\u001b[0;32m/tmp/ipython-input-13-1980162852.py\u001b[0m in \u001b[0;36mcompute_smiles_embedding\u001b[0;34m(smiles_list, batch_size)\u001b[0m\n\u001b[1;32m      9\u001b[0m         \u001b[0;32mfor\u001b[0m \u001b[0mi\u001b[0m \u001b[0;32min\u001b[0m \u001b[0mrange\u001b[0m\u001b[0;34m(\u001b[0m\u001b[0;36m0\u001b[0m\u001b[0;34m,\u001b[0m \u001b[0mlen\u001b[0m\u001b[0;34m(\u001b[0m\u001b[0msmiles_list\u001b[0m\u001b[0;34m)\u001b[0m\u001b[0;34m,\u001b[0m \u001b[0mbatch_size\u001b[0m\u001b[0;34m)\u001b[0m\u001b[0;34m:\u001b[0m\u001b[0;34m\u001b[0m\u001b[0;34m\u001b[0m\u001b[0m\n\u001b[1;32m     10\u001b[0m             \u001b[0mtoks\u001b[0m \u001b[0;34m=\u001b[0m \u001b[0mtokenizer\u001b[0m\u001b[0;34m(\u001b[0m\u001b[0msmiles_list\u001b[0m\u001b[0;34m[\u001b[0m\u001b[0mi\u001b[0m\u001b[0;34m:\u001b[0m\u001b[0mi\u001b[0m\u001b[0;34m+\u001b[0m\u001b[0mbatch_size\u001b[0m\u001b[0;34m]\u001b[0m\u001b[0;34m,\u001b[0m \u001b[0mreturn_tensors\u001b[0m\u001b[0;34m=\u001b[0m\u001b[0;34m'pt'\u001b[0m\u001b[0;34m,\u001b[0m \u001b[0mpadding\u001b[0m\u001b[0;34m=\u001b[0m\u001b[0;32mTrue\u001b[0m\u001b[0;34m)\u001b[0m\u001b[0;34m\u001b[0m\u001b[0;34m\u001b[0m\u001b[0m\n\u001b[0;32m---> 11\u001b[0;31m             \u001b[0mout\u001b[0m \u001b[0;34m=\u001b[0m \u001b[0mmodel\u001b[0m\u001b[0;34m(\u001b[0m\u001b[0;34m**\u001b[0m\u001b[0mtoks\u001b[0m\u001b[0;34m)\u001b[0m\u001b[0;34m\u001b[0m\u001b[0;34m\u001b[0m\u001b[0m\n\u001b[0m\u001b[1;32m     12\u001b[0m             \u001b[0membs\u001b[0m\u001b[0;34m.\u001b[0m\u001b[0mappend\u001b[0m\u001b[0;34m(\u001b[0m\u001b[0mout\u001b[0m\u001b[0;34m.\u001b[0m\u001b[0mlast_hidden_state\u001b[0m\u001b[0;34m[\u001b[0m\u001b[0;34m:\u001b[0m\u001b[0;34m,\u001b[0m\u001b[0;36m0\u001b[0m\u001b[0;34m,\u001b[0m\u001b[0;34m:\u001b[0m\u001b[0;34m]\u001b[0m\u001b[0;34m.\u001b[0m\u001b[0mcpu\u001b[0m\u001b[0;34m(\u001b[0m\u001b[0;34m)\u001b[0m\u001b[0;34m.\u001b[0m\u001b[0mnumpy\u001b[0m\u001b[0;34m(\u001b[0m\u001b[0;34m)\u001b[0m\u001b[0;34m)\u001b[0m\u001b[0;34m\u001b[0m\u001b[0;34m\u001b[0m\u001b[0m\n\u001b[1;32m     13\u001b[0m     \u001b[0;32mreturn\u001b[0m \u001b[0mnp\u001b[0m\u001b[0;34m.\u001b[0m\u001b[0mvstack\u001b[0m\u001b[0;34m(\u001b[0m\u001b[0membs\u001b[0m\u001b[0;34m)\u001b[0m\u001b[0;34m\u001b[0m\u001b[0;34m\u001b[0m\u001b[0m\n",
            "\u001b[0;32m/usr/local/lib/python3.11/dist-packages/torch/nn/modules/module.py\u001b[0m in \u001b[0;36m_wrapped_call_impl\u001b[0;34m(self, *args, **kwargs)\u001b[0m\n\u001b[1;32m   1737\u001b[0m             \u001b[0;32mreturn\u001b[0m \u001b[0mself\u001b[0m\u001b[0;34m.\u001b[0m\u001b[0m_compiled_call_impl\u001b[0m\u001b[0;34m(\u001b[0m\u001b[0;34m*\u001b[0m\u001b[0margs\u001b[0m\u001b[0;34m,\u001b[0m \u001b[0;34m**\u001b[0m\u001b[0mkwargs\u001b[0m\u001b[0;34m)\u001b[0m  \u001b[0;31m# type: ignore[misc]\u001b[0m\u001b[0;34m\u001b[0m\u001b[0;34m\u001b[0m\u001b[0m\n\u001b[1;32m   1738\u001b[0m         \u001b[0;32melse\u001b[0m\u001b[0;34m:\u001b[0m\u001b[0;34m\u001b[0m\u001b[0;34m\u001b[0m\u001b[0m\n\u001b[0;32m-> 1739\u001b[0;31m             \u001b[0;32mreturn\u001b[0m \u001b[0mself\u001b[0m\u001b[0;34m.\u001b[0m\u001b[0m_call_impl\u001b[0m\u001b[0;34m(\u001b[0m\u001b[0;34m*\u001b[0m\u001b[0margs\u001b[0m\u001b[0;34m,\u001b[0m \u001b[0;34m**\u001b[0m\u001b[0mkwargs\u001b[0m\u001b[0;34m)\u001b[0m\u001b[0;34m\u001b[0m\u001b[0;34m\u001b[0m\u001b[0m\n\u001b[0m\u001b[1;32m   1740\u001b[0m \u001b[0;34m\u001b[0m\u001b[0m\n\u001b[1;32m   1741\u001b[0m     \u001b[0;31m# torchrec tests the code consistency with the following code\u001b[0m\u001b[0;34m\u001b[0m\u001b[0;34m\u001b[0m\u001b[0m\n",
            "\u001b[0;32m/usr/local/lib/python3.11/dist-packages/torch/nn/modules/module.py\u001b[0m in \u001b[0;36m_call_impl\u001b[0;34m(self, *args, **kwargs)\u001b[0m\n\u001b[1;32m   1748\u001b[0m                 \u001b[0;32mor\u001b[0m \u001b[0m_global_backward_pre_hooks\u001b[0m \u001b[0;32mor\u001b[0m \u001b[0m_global_backward_hooks\u001b[0m\u001b[0;34m\u001b[0m\u001b[0;34m\u001b[0m\u001b[0m\n\u001b[1;32m   1749\u001b[0m                 or _global_forward_hooks or _global_forward_pre_hooks):\n\u001b[0;32m-> 1750\u001b[0;31m             \u001b[0;32mreturn\u001b[0m \u001b[0mforward_call\u001b[0m\u001b[0;34m(\u001b[0m\u001b[0;34m*\u001b[0m\u001b[0margs\u001b[0m\u001b[0;34m,\u001b[0m \u001b[0;34m**\u001b[0m\u001b[0mkwargs\u001b[0m\u001b[0;34m)\u001b[0m\u001b[0;34m\u001b[0m\u001b[0;34m\u001b[0m\u001b[0m\n\u001b[0m\u001b[1;32m   1751\u001b[0m \u001b[0;34m\u001b[0m\u001b[0m\n\u001b[1;32m   1752\u001b[0m         \u001b[0mresult\u001b[0m \u001b[0;34m=\u001b[0m \u001b[0;32mNone\u001b[0m\u001b[0;34m\u001b[0m\u001b[0;34m\u001b[0m\u001b[0m\n",
            "\u001b[0;32m/usr/local/lib/python3.11/dist-packages/transformers/models/roberta/modeling_roberta.py\u001b[0m in \u001b[0;36mforward\u001b[0;34m(self, input_ids, attention_mask, token_type_ids, position_ids, head_mask, inputs_embeds, encoder_hidden_states, encoder_attention_mask, past_key_values, use_cache, output_attentions, output_hidden_states, return_dict)\u001b[0m\n\u001b[1;32m    856\u001b[0m         \u001b[0mhead_mask\u001b[0m \u001b[0;34m=\u001b[0m \u001b[0mself\u001b[0m\u001b[0;34m.\u001b[0m\u001b[0mget_head_mask\u001b[0m\u001b[0;34m(\u001b[0m\u001b[0mhead_mask\u001b[0m\u001b[0;34m,\u001b[0m \u001b[0mself\u001b[0m\u001b[0;34m.\u001b[0m\u001b[0mconfig\u001b[0m\u001b[0;34m.\u001b[0m\u001b[0mnum_hidden_layers\u001b[0m\u001b[0;34m)\u001b[0m\u001b[0;34m\u001b[0m\u001b[0;34m\u001b[0m\u001b[0m\n\u001b[1;32m    857\u001b[0m \u001b[0;34m\u001b[0m\u001b[0m\n\u001b[0;32m--> 858\u001b[0;31m         encoder_outputs = self.encoder(\n\u001b[0m\u001b[1;32m    859\u001b[0m             \u001b[0membedding_output\u001b[0m\u001b[0;34m,\u001b[0m\u001b[0;34m\u001b[0m\u001b[0;34m\u001b[0m\u001b[0m\n\u001b[1;32m    860\u001b[0m             \u001b[0mattention_mask\u001b[0m\u001b[0;34m=\u001b[0m\u001b[0mextended_attention_mask\u001b[0m\u001b[0;34m,\u001b[0m\u001b[0;34m\u001b[0m\u001b[0;34m\u001b[0m\u001b[0m\n",
            "\u001b[0;32m/usr/local/lib/python3.11/dist-packages/torch/nn/modules/module.py\u001b[0m in \u001b[0;36m_wrapped_call_impl\u001b[0;34m(self, *args, **kwargs)\u001b[0m\n\u001b[1;32m   1737\u001b[0m             \u001b[0;32mreturn\u001b[0m \u001b[0mself\u001b[0m\u001b[0;34m.\u001b[0m\u001b[0m_compiled_call_impl\u001b[0m\u001b[0;34m(\u001b[0m\u001b[0;34m*\u001b[0m\u001b[0margs\u001b[0m\u001b[0;34m,\u001b[0m \u001b[0;34m**\u001b[0m\u001b[0mkwargs\u001b[0m\u001b[0;34m)\u001b[0m  \u001b[0;31m# type: ignore[misc]\u001b[0m\u001b[0;34m\u001b[0m\u001b[0;34m\u001b[0m\u001b[0m\n\u001b[1;32m   1738\u001b[0m         \u001b[0;32melse\u001b[0m\u001b[0;34m:\u001b[0m\u001b[0;34m\u001b[0m\u001b[0;34m\u001b[0m\u001b[0m\n\u001b[0;32m-> 1739\u001b[0;31m             \u001b[0;32mreturn\u001b[0m \u001b[0mself\u001b[0m\u001b[0;34m.\u001b[0m\u001b[0m_call_impl\u001b[0m\u001b[0;34m(\u001b[0m\u001b[0;34m*\u001b[0m\u001b[0margs\u001b[0m\u001b[0;34m,\u001b[0m \u001b[0;34m**\u001b[0m\u001b[0mkwargs\u001b[0m\u001b[0;34m)\u001b[0m\u001b[0;34m\u001b[0m\u001b[0;34m\u001b[0m\u001b[0m\n\u001b[0m\u001b[1;32m   1740\u001b[0m \u001b[0;34m\u001b[0m\u001b[0m\n\u001b[1;32m   1741\u001b[0m     \u001b[0;31m# torchrec tests the code consistency with the following code\u001b[0m\u001b[0;34m\u001b[0m\u001b[0;34m\u001b[0m\u001b[0m\n",
            "\u001b[0;32m/usr/local/lib/python3.11/dist-packages/torch/nn/modules/module.py\u001b[0m in \u001b[0;36m_call_impl\u001b[0;34m(self, *args, **kwargs)\u001b[0m\n\u001b[1;32m   1748\u001b[0m                 \u001b[0;32mor\u001b[0m \u001b[0m_global_backward_pre_hooks\u001b[0m \u001b[0;32mor\u001b[0m \u001b[0m_global_backward_hooks\u001b[0m\u001b[0;34m\u001b[0m\u001b[0;34m\u001b[0m\u001b[0m\n\u001b[1;32m   1749\u001b[0m                 or _global_forward_hooks or _global_forward_pre_hooks):\n\u001b[0;32m-> 1750\u001b[0;31m             \u001b[0;32mreturn\u001b[0m \u001b[0mforward_call\u001b[0m\u001b[0;34m(\u001b[0m\u001b[0;34m*\u001b[0m\u001b[0margs\u001b[0m\u001b[0;34m,\u001b[0m \u001b[0;34m**\u001b[0m\u001b[0mkwargs\u001b[0m\u001b[0;34m)\u001b[0m\u001b[0;34m\u001b[0m\u001b[0;34m\u001b[0m\u001b[0m\n\u001b[0m\u001b[1;32m   1751\u001b[0m \u001b[0;34m\u001b[0m\u001b[0m\n\u001b[1;32m   1752\u001b[0m         \u001b[0mresult\u001b[0m \u001b[0;34m=\u001b[0m \u001b[0;32mNone\u001b[0m\u001b[0;34m\u001b[0m\u001b[0;34m\u001b[0m\u001b[0m\n",
            "\u001b[0;32m/usr/local/lib/python3.11/dist-packages/transformers/models/roberta/modeling_roberta.py\u001b[0m in \u001b[0;36mforward\u001b[0;34m(self, hidden_states, attention_mask, head_mask, encoder_hidden_states, encoder_attention_mask, past_key_values, use_cache, output_attentions, output_hidden_states, return_dict)\u001b[0m\n\u001b[1;32m    605\u001b[0m             \u001b[0mpast_key_value\u001b[0m \u001b[0;34m=\u001b[0m \u001b[0mpast_key_values\u001b[0m\u001b[0;34m[\u001b[0m\u001b[0mi\u001b[0m\u001b[0;34m]\u001b[0m \u001b[0;32mif\u001b[0m \u001b[0mpast_key_values\u001b[0m \u001b[0;32mis\u001b[0m \u001b[0;32mnot\u001b[0m \u001b[0;32mNone\u001b[0m \u001b[0;32melse\u001b[0m \u001b[0;32mNone\u001b[0m\u001b[0;34m\u001b[0m\u001b[0;34m\u001b[0m\u001b[0m\n\u001b[1;32m    606\u001b[0m \u001b[0;34m\u001b[0m\u001b[0m\n\u001b[0;32m--> 607\u001b[0;31m             layer_outputs = layer_module(\n\u001b[0m\u001b[1;32m    608\u001b[0m                 \u001b[0mhidden_states\u001b[0m\u001b[0;34m,\u001b[0m\u001b[0;34m\u001b[0m\u001b[0;34m\u001b[0m\u001b[0m\n\u001b[1;32m    609\u001b[0m                 \u001b[0mattention_mask\u001b[0m\u001b[0;34m,\u001b[0m\u001b[0;34m\u001b[0m\u001b[0;34m\u001b[0m\u001b[0m\n",
            "\u001b[0;32m/usr/local/lib/python3.11/dist-packages/transformers/modeling_layers.py\u001b[0m in \u001b[0;36m__call__\u001b[0;34m(self, *args, **kwargs)\u001b[0m\n\u001b[1;32m     81\u001b[0m \u001b[0;34m\u001b[0m\u001b[0m\n\u001b[1;32m     82\u001b[0m             \u001b[0;32mreturn\u001b[0m \u001b[0mself\u001b[0m\u001b[0;34m.\u001b[0m\u001b[0m_gradient_checkpointing_func\u001b[0m\u001b[0;34m(\u001b[0m\u001b[0mpartial\u001b[0m\u001b[0;34m(\u001b[0m\u001b[0msuper\u001b[0m\u001b[0;34m(\u001b[0m\u001b[0;34m)\u001b[0m\u001b[0;34m.\u001b[0m\u001b[0m__call__\u001b[0m\u001b[0;34m,\u001b[0m \u001b[0;34m**\u001b[0m\u001b[0mkwargs\u001b[0m\u001b[0;34m)\u001b[0m\u001b[0;34m,\u001b[0m \u001b[0;34m*\u001b[0m\u001b[0margs\u001b[0m\u001b[0;34m)\u001b[0m\u001b[0;34m\u001b[0m\u001b[0;34m\u001b[0m\u001b[0m\n\u001b[0;32m---> 83\u001b[0;31m         \u001b[0;32mreturn\u001b[0m \u001b[0msuper\u001b[0m\u001b[0;34m(\u001b[0m\u001b[0;34m)\u001b[0m\u001b[0;34m.\u001b[0m\u001b[0m__call__\u001b[0m\u001b[0;34m(\u001b[0m\u001b[0;34m*\u001b[0m\u001b[0margs\u001b[0m\u001b[0;34m,\u001b[0m \u001b[0;34m**\u001b[0m\u001b[0mkwargs\u001b[0m\u001b[0;34m)\u001b[0m\u001b[0;34m\u001b[0m\u001b[0;34m\u001b[0m\u001b[0m\n\u001b[0m",
            "\u001b[0;32m/usr/local/lib/python3.11/dist-packages/torch/nn/modules/module.py\u001b[0m in \u001b[0;36m_wrapped_call_impl\u001b[0;34m(self, *args, **kwargs)\u001b[0m\n\u001b[1;32m   1737\u001b[0m             \u001b[0;32mreturn\u001b[0m \u001b[0mself\u001b[0m\u001b[0;34m.\u001b[0m\u001b[0m_compiled_call_impl\u001b[0m\u001b[0;34m(\u001b[0m\u001b[0;34m*\u001b[0m\u001b[0margs\u001b[0m\u001b[0;34m,\u001b[0m \u001b[0;34m**\u001b[0m\u001b[0mkwargs\u001b[0m\u001b[0;34m)\u001b[0m  \u001b[0;31m# type: ignore[misc]\u001b[0m\u001b[0;34m\u001b[0m\u001b[0;34m\u001b[0m\u001b[0m\n\u001b[1;32m   1738\u001b[0m         \u001b[0;32melse\u001b[0m\u001b[0;34m:\u001b[0m\u001b[0;34m\u001b[0m\u001b[0;34m\u001b[0m\u001b[0m\n\u001b[0;32m-> 1739\u001b[0;31m             \u001b[0;32mreturn\u001b[0m \u001b[0mself\u001b[0m\u001b[0;34m.\u001b[0m\u001b[0m_call_impl\u001b[0m\u001b[0;34m(\u001b[0m\u001b[0;34m*\u001b[0m\u001b[0margs\u001b[0m\u001b[0;34m,\u001b[0m \u001b[0;34m**\u001b[0m\u001b[0mkwargs\u001b[0m\u001b[0;34m)\u001b[0m\u001b[0;34m\u001b[0m\u001b[0;34m\u001b[0m\u001b[0m\n\u001b[0m\u001b[1;32m   1740\u001b[0m \u001b[0;34m\u001b[0m\u001b[0m\n\u001b[1;32m   1741\u001b[0m     \u001b[0;31m# torchrec tests the code consistency with the following code\u001b[0m\u001b[0;34m\u001b[0m\u001b[0;34m\u001b[0m\u001b[0m\n",
            "\u001b[0;32m/usr/local/lib/python3.11/dist-packages/torch/nn/modules/module.py\u001b[0m in \u001b[0;36m_call_impl\u001b[0;34m(self, *args, **kwargs)\u001b[0m\n\u001b[1;32m   1748\u001b[0m                 \u001b[0;32mor\u001b[0m \u001b[0m_global_backward_pre_hooks\u001b[0m \u001b[0;32mor\u001b[0m \u001b[0m_global_backward_hooks\u001b[0m\u001b[0;34m\u001b[0m\u001b[0;34m\u001b[0m\u001b[0m\n\u001b[1;32m   1749\u001b[0m                 or _global_forward_hooks or _global_forward_pre_hooks):\n\u001b[0;32m-> 1750\u001b[0;31m             \u001b[0;32mreturn\u001b[0m \u001b[0mforward_call\u001b[0m\u001b[0;34m(\u001b[0m\u001b[0;34m*\u001b[0m\u001b[0margs\u001b[0m\u001b[0;34m,\u001b[0m \u001b[0;34m**\u001b[0m\u001b[0mkwargs\u001b[0m\u001b[0;34m)\u001b[0m\u001b[0;34m\u001b[0m\u001b[0;34m\u001b[0m\u001b[0m\n\u001b[0m\u001b[1;32m   1751\u001b[0m \u001b[0;34m\u001b[0m\u001b[0m\n\u001b[1;32m   1752\u001b[0m         \u001b[0mresult\u001b[0m \u001b[0;34m=\u001b[0m \u001b[0;32mNone\u001b[0m\u001b[0;34m\u001b[0m\u001b[0;34m\u001b[0m\u001b[0m\n",
            "\u001b[0;32m/usr/local/lib/python3.11/dist-packages/transformers/models/roberta/modeling_roberta.py\u001b[0m in \u001b[0;36mforward\u001b[0;34m(self, hidden_states, attention_mask, head_mask, encoder_hidden_states, encoder_attention_mask, past_key_value, output_attentions)\u001b[0m\n\u001b[1;32m    506\u001b[0m         \u001b[0;31m# decoder uni-directional self-attention cached key/values tuple is at positions 1,2\u001b[0m\u001b[0;34m\u001b[0m\u001b[0;34m\u001b[0m\u001b[0m\n\u001b[1;32m    507\u001b[0m         \u001b[0mself_attn_past_key_value\u001b[0m \u001b[0;34m=\u001b[0m \u001b[0mpast_key_value\u001b[0m\u001b[0;34m[\u001b[0m\u001b[0;34m:\u001b[0m\u001b[0;36m2\u001b[0m\u001b[0;34m]\u001b[0m \u001b[0;32mif\u001b[0m \u001b[0mpast_key_value\u001b[0m \u001b[0;32mis\u001b[0m \u001b[0;32mnot\u001b[0m \u001b[0;32mNone\u001b[0m \u001b[0;32melse\u001b[0m \u001b[0;32mNone\u001b[0m\u001b[0;34m\u001b[0m\u001b[0;34m\u001b[0m\u001b[0m\n\u001b[0;32m--> 508\u001b[0;31m         self_attention_outputs = self.attention(\n\u001b[0m\u001b[1;32m    509\u001b[0m             \u001b[0mhidden_states\u001b[0m\u001b[0;34m,\u001b[0m\u001b[0;34m\u001b[0m\u001b[0;34m\u001b[0m\u001b[0m\n\u001b[1;32m    510\u001b[0m             \u001b[0mattention_mask\u001b[0m\u001b[0;34m,\u001b[0m\u001b[0;34m\u001b[0m\u001b[0;34m\u001b[0m\u001b[0m\n",
            "\u001b[0;32m/usr/local/lib/python3.11/dist-packages/torch/nn/modules/module.py\u001b[0m in \u001b[0;36m_wrapped_call_impl\u001b[0;34m(self, *args, **kwargs)\u001b[0m\n\u001b[1;32m   1737\u001b[0m             \u001b[0;32mreturn\u001b[0m \u001b[0mself\u001b[0m\u001b[0;34m.\u001b[0m\u001b[0m_compiled_call_impl\u001b[0m\u001b[0;34m(\u001b[0m\u001b[0;34m*\u001b[0m\u001b[0margs\u001b[0m\u001b[0;34m,\u001b[0m \u001b[0;34m**\u001b[0m\u001b[0mkwargs\u001b[0m\u001b[0;34m)\u001b[0m  \u001b[0;31m# type: ignore[misc]\u001b[0m\u001b[0;34m\u001b[0m\u001b[0;34m\u001b[0m\u001b[0m\n\u001b[1;32m   1738\u001b[0m         \u001b[0;32melse\u001b[0m\u001b[0;34m:\u001b[0m\u001b[0;34m\u001b[0m\u001b[0;34m\u001b[0m\u001b[0m\n\u001b[0;32m-> 1739\u001b[0;31m             \u001b[0;32mreturn\u001b[0m \u001b[0mself\u001b[0m\u001b[0;34m.\u001b[0m\u001b[0m_call_impl\u001b[0m\u001b[0;34m(\u001b[0m\u001b[0;34m*\u001b[0m\u001b[0margs\u001b[0m\u001b[0;34m,\u001b[0m \u001b[0;34m**\u001b[0m\u001b[0mkwargs\u001b[0m\u001b[0;34m)\u001b[0m\u001b[0;34m\u001b[0m\u001b[0;34m\u001b[0m\u001b[0m\n\u001b[0m\u001b[1;32m   1740\u001b[0m \u001b[0;34m\u001b[0m\u001b[0m\n\u001b[1;32m   1741\u001b[0m     \u001b[0;31m# torchrec tests the code consistency with the following code\u001b[0m\u001b[0;34m\u001b[0m\u001b[0;34m\u001b[0m\u001b[0m\n",
            "\u001b[0;32m/usr/local/lib/python3.11/dist-packages/torch/nn/modules/module.py\u001b[0m in \u001b[0;36m_call_impl\u001b[0;34m(self, *args, **kwargs)\u001b[0m\n\u001b[1;32m   1748\u001b[0m                 \u001b[0;32mor\u001b[0m \u001b[0m_global_backward_pre_hooks\u001b[0m \u001b[0;32mor\u001b[0m \u001b[0m_global_backward_hooks\u001b[0m\u001b[0;34m\u001b[0m\u001b[0;34m\u001b[0m\u001b[0m\n\u001b[1;32m   1749\u001b[0m                 or _global_forward_hooks or _global_forward_pre_hooks):\n\u001b[0;32m-> 1750\u001b[0;31m             \u001b[0;32mreturn\u001b[0m \u001b[0mforward_call\u001b[0m\u001b[0;34m(\u001b[0m\u001b[0;34m*\u001b[0m\u001b[0margs\u001b[0m\u001b[0;34m,\u001b[0m \u001b[0;34m**\u001b[0m\u001b[0mkwargs\u001b[0m\u001b[0;34m)\u001b[0m\u001b[0;34m\u001b[0m\u001b[0;34m\u001b[0m\u001b[0m\n\u001b[0m\u001b[1;32m   1751\u001b[0m \u001b[0;34m\u001b[0m\u001b[0m\n\u001b[1;32m   1752\u001b[0m         \u001b[0mresult\u001b[0m \u001b[0;34m=\u001b[0m \u001b[0;32mNone\u001b[0m\u001b[0;34m\u001b[0m\u001b[0;34m\u001b[0m\u001b[0m\n",
            "\u001b[0;32m/usr/local/lib/python3.11/dist-packages/transformers/models/roberta/modeling_roberta.py\u001b[0m in \u001b[0;36mforward\u001b[0;34m(self, hidden_states, attention_mask, head_mask, encoder_hidden_states, encoder_attention_mask, past_key_value, output_attentions)\u001b[0m\n\u001b[1;32m    433\u001b[0m         \u001b[0moutput_attentions\u001b[0m\u001b[0;34m:\u001b[0m \u001b[0mOptional\u001b[0m\u001b[0;34m[\u001b[0m\u001b[0mbool\u001b[0m\u001b[0;34m]\u001b[0m \u001b[0;34m=\u001b[0m \u001b[0;32mFalse\u001b[0m\u001b[0;34m,\u001b[0m\u001b[0;34m\u001b[0m\u001b[0;34m\u001b[0m\u001b[0m\n\u001b[1;32m    434\u001b[0m     ) -> tuple[torch.Tensor]:\n\u001b[0;32m--> 435\u001b[0;31m         self_outputs = self.self(\n\u001b[0m\u001b[1;32m    436\u001b[0m             \u001b[0mhidden_states\u001b[0m\u001b[0;34m,\u001b[0m\u001b[0;34m\u001b[0m\u001b[0;34m\u001b[0m\u001b[0m\n\u001b[1;32m    437\u001b[0m             \u001b[0mattention_mask\u001b[0m\u001b[0;34m,\u001b[0m\u001b[0;34m\u001b[0m\u001b[0;34m\u001b[0m\u001b[0m\n",
            "\u001b[0;32m/usr/local/lib/python3.11/dist-packages/torch/nn/modules/module.py\u001b[0m in \u001b[0;36m_wrapped_call_impl\u001b[0;34m(self, *args, **kwargs)\u001b[0m\n\u001b[1;32m   1737\u001b[0m             \u001b[0;32mreturn\u001b[0m \u001b[0mself\u001b[0m\u001b[0;34m.\u001b[0m\u001b[0m_compiled_call_impl\u001b[0m\u001b[0;34m(\u001b[0m\u001b[0;34m*\u001b[0m\u001b[0margs\u001b[0m\u001b[0;34m,\u001b[0m \u001b[0;34m**\u001b[0m\u001b[0mkwargs\u001b[0m\u001b[0;34m)\u001b[0m  \u001b[0;31m# type: ignore[misc]\u001b[0m\u001b[0;34m\u001b[0m\u001b[0;34m\u001b[0m\u001b[0m\n\u001b[1;32m   1738\u001b[0m         \u001b[0;32melse\u001b[0m\u001b[0;34m:\u001b[0m\u001b[0;34m\u001b[0m\u001b[0;34m\u001b[0m\u001b[0m\n\u001b[0;32m-> 1739\u001b[0;31m             \u001b[0;32mreturn\u001b[0m \u001b[0mself\u001b[0m\u001b[0;34m.\u001b[0m\u001b[0m_call_impl\u001b[0m\u001b[0;34m(\u001b[0m\u001b[0;34m*\u001b[0m\u001b[0margs\u001b[0m\u001b[0;34m,\u001b[0m \u001b[0;34m**\u001b[0m\u001b[0mkwargs\u001b[0m\u001b[0;34m)\u001b[0m\u001b[0;34m\u001b[0m\u001b[0;34m\u001b[0m\u001b[0m\n\u001b[0m\u001b[1;32m   1740\u001b[0m \u001b[0;34m\u001b[0m\u001b[0m\n\u001b[1;32m   1741\u001b[0m     \u001b[0;31m# torchrec tests the code consistency with the following code\u001b[0m\u001b[0;34m\u001b[0m\u001b[0;34m\u001b[0m\u001b[0m\n",
            "\u001b[0;32m/usr/local/lib/python3.11/dist-packages/torch/nn/modules/module.py\u001b[0m in \u001b[0;36m_call_impl\u001b[0;34m(self, *args, **kwargs)\u001b[0m\n\u001b[1;32m   1748\u001b[0m                 \u001b[0;32mor\u001b[0m \u001b[0m_global_backward_pre_hooks\u001b[0m \u001b[0;32mor\u001b[0m \u001b[0m_global_backward_hooks\u001b[0m\u001b[0;34m\u001b[0m\u001b[0;34m\u001b[0m\u001b[0m\n\u001b[1;32m   1749\u001b[0m                 or _global_forward_hooks or _global_forward_pre_hooks):\n\u001b[0;32m-> 1750\u001b[0;31m             \u001b[0;32mreturn\u001b[0m \u001b[0mforward_call\u001b[0m\u001b[0;34m(\u001b[0m\u001b[0;34m*\u001b[0m\u001b[0margs\u001b[0m\u001b[0;34m,\u001b[0m \u001b[0;34m**\u001b[0m\u001b[0mkwargs\u001b[0m\u001b[0;34m)\u001b[0m\u001b[0;34m\u001b[0m\u001b[0;34m\u001b[0m\u001b[0m\n\u001b[0m\u001b[1;32m   1751\u001b[0m \u001b[0;34m\u001b[0m\u001b[0m\n\u001b[1;32m   1752\u001b[0m         \u001b[0mresult\u001b[0m \u001b[0;34m=\u001b[0m \u001b[0;32mNone\u001b[0m\u001b[0;34m\u001b[0m\u001b[0;34m\u001b[0m\u001b[0m\n",
            "\u001b[0;32m/usr/local/lib/python3.11/dist-packages/transformers/models/roberta/modeling_roberta.py\u001b[0m in \u001b[0;36mforward\u001b[0;34m(self, hidden_states, attention_mask, head_mask, encoder_hidden_states, encoder_attention_mask, past_key_value, output_attentions)\u001b[0m\n\u001b[1;32m    356\u001b[0m         )\n\u001b[1;32m    357\u001b[0m \u001b[0;34m\u001b[0m\u001b[0m\n\u001b[0;32m--> 358\u001b[0;31m         attn_output = torch.nn.functional.scaled_dot_product_attention(\n\u001b[0m\u001b[1;32m    359\u001b[0m             \u001b[0mquery_layer\u001b[0m\u001b[0;34m,\u001b[0m\u001b[0;34m\u001b[0m\u001b[0;34m\u001b[0m\u001b[0m\n\u001b[1;32m    360\u001b[0m             \u001b[0mkey_layer\u001b[0m\u001b[0;34m,\u001b[0m\u001b[0;34m\u001b[0m\u001b[0;34m\u001b[0m\u001b[0m\n",
            "\u001b[0;31mKeyboardInterrupt\u001b[0m: "
          ]
        }
      ]
    },
    {
      "cell_type": "code",
      "source": [
        "# --- GNN Embedding ---\n",
        "node_featurizer = CanonicalAtomFeaturizer()\n",
        "\n",
        "def smiles_to_graph(smiles):\n",
        "    mol = Chem.MolFromSmiles(smiles)\n",
        "    if mol is None:\n",
        "        return None\n",
        "    return mol_to_bigraph(mol, node_featurizer=node_featurizer)\n",
        "\n",
        "print(\"GNN 임베딩 추출 중...\")\n",
        "class MLP(nn.Module):\n",
        "    def __init__(self, input_dim, hidden_dim=256, output_dim=128):\n",
        "        super().__init__()\n",
        "        self.layers = nn.Sequential(\n",
        "            nn.Linear(input_dim, hidden_dim),\n",
        "            nn.ReLU(),\n",
        "            nn.Linear(hidden_dim, output_dim)\n",
        "        )\n",
        "    def forward(self, x):\n",
        "        return self.layers(x)\n",
        "\n",
        "class GINBackbone(nn.Module):\n",
        "    def __init__(self, input_dim, hidden_dims):\n",
        "        super().__init__()\n",
        "        self.layers = nn.ModuleList()\n",
        "        for hid_dim in hidden_dims:\n",
        "            mlp = nn.Sequential(\n",
        "                nn.Linear(input_dim, hid_dim),\n",
        "                nn.ReLU(),\n",
        "                nn.Linear(hid_dim, hid_dim)\n",
        "            )\n",
        "            self.layers.append(GINConv(mlp, 'sum'))\n",
        "            input_dim = hid_dim\n",
        "        self.pool = SumPooling()\n",
        "    def forward(self, g, feats):\n",
        "        h = feats\n",
        "        for layer in self.layers:\n",
        "            h = layer(g, h)\n",
        "        hg = self.pool(g, h)\n",
        "        return hg\n",
        "\n",
        "gnn_backbone = GINBackbone(input_dim=node_featurizer.feat_size(), hidden_dims=[128,128,128])\n",
        "mlp_predictor = MLP(input_dim=128, hidden_dim=256, output_dim=128)\n",
        "model_gnn = nn.Sequential(gnn_backbone, mlp_predictor)\n",
        "model_gnn.eval()\n",
        "\n",
        "def get_gnn_features(df_smiles):\n",
        "    graphs = [smiles_to_graph(s) for s in df_smiles]\n",
        "    feats = []\n",
        "    for g in graphs:\n",
        "        if g is not None:\n",
        "            with torch.no_grad():\n",
        "                x = g.ndata['h'].float()\n",
        "                hg = gnn_backbone(g, x)\n",
        "                out = mlp_predictor(hg)\n",
        "                feats.append(out.numpy())\n",
        "        else:\n",
        "            feats.append(np.zeros(128))\n",
        "    return np.vstack(feats)\n",
        "\n",
        "train_gnn = get_gnn_features(train['Canonical_Smiles'])\n",
        "test_gnn = get_gnn_features(test['Canonical_Smiles'])"
      ],
      "metadata": {
        "id": "enr6j_d_IbMv"
      },
      "execution_count": null,
      "outputs": []
    },
    {
      "cell_type": "code",
      "source": [
        "train_gnn = np.load(os.path.join(data_dir, 'train_gnn.npy'))\n",
        "test_gnn = np.load(os.path.join(data_dir, 'test_gnn.npy'))"
      ],
      "metadata": {
        "id": "eoTAq5NCDFV8"
      },
      "execution_count": null,
      "outputs": []
    },
    {
      "cell_type": "code",
      "source": [
        "# --- Scaling and Stacking ---\n",
        "\n",
        "# 1) Descriptor: 이상치가 많을 수 있으니 MinMaxScaler\n",
        "desc_scaler = MinMaxScaler()\n",
        "train_desc = desc_scaler.fit_transform(train_desc)\n",
        "test_desc = desc_scaler.transform(test_desc)\n",
        "\n",
        "# 2) ChemBERTa 임베딩: 비교적 분포가 균일하니 StandardScaler\n",
        "emb_scaler = StandardScaler()\n",
        "train_emb = emb_scaler.fit_transform(train_emb)\n",
        "test_emb = emb_scaler.transform(test_emb)\n",
        "\n",
        "# 3) GNN 임베딩: 역시 StandardScaler\n",
        "gnn_scaler = StandardScaler()\n",
        "train_gnn = gnn_scaler.fit_transform(train_gnn)\n",
        "test_gnn = gnn_scaler.transform(test_gnn)\n",
        "\n",
        "X_train = np.hstack([train_desc, train_emb, train_gnn])\n",
        "X_test = np.hstack([test_desc, train_emb, test_gnn])"
      ],
      "metadata": {
        "id": "IGF2q9llJAQJ"
      },
      "execution_count": null,
      "outputs": []
    },
    {
      "cell_type": "code",
      "source": [
        "# # PCA 학습 및 train 임베딩 차원 축소\n",
        "# pca = PCA(n_components=100)\n",
        "# train_emb_pca = pca.fit_transform(train_emb)\n",
        "\n",
        "# # PCA 모델 저장\n",
        "# with open(os.path.join(data_dir, 'pca_model.pkl'), 'wb') as f:\n",
        "#     pickle.dump(pca, f)\n",
        "\n",
        "# # train 임베딩 PCA 결과 저장\n",
        "# np.save(os.path.join(data_dir, 'train_emb_pca.npy'), train_emb_pca)\n",
        "# print('PCA model and train_emb_pca saved.')\n",
        "\n",
        "# # test 임베딩 로드 및 PCA 변환 후 저장\n",
        "# test_emb = np.load(os.path.join(data_dir, 'test_emb.npy'))\n",
        "# test_emb_pca = pca.transform(test_emb)\n",
        "# np.save(os.path.join(data_dir, 'test_emb_pca.npy'), test_emb_pca)\n",
        "# print('Test embeddings PCA transformed and saved.')"
      ],
      "metadata": {
        "id": "8qAZjVaTDefJ"
      },
      "execution_count": null,
      "outputs": []
    },
    {
      "cell_type": "code",
      "source": [
        "# -- Scaffold 계산 --\n",
        "def get_scaffold(smiles):\n",
        "    mol = Chem.MolFromSmiles(smiles)\n",
        "    if mol is None:\n",
        "        return \"\"\n",
        "    scaffold = MurckoScaffold.GetScaffoldForMol(mol)\n",
        "    return Chem.MolToSmiles(scaffold)\n",
        "\n",
        "train['scaffold'] = train['Canonical_Smiles'].apply(get_scaffold)"
      ],
      "metadata": {
        "id": "oYMxpsvuxV4O"
      },
      "execution_count": null,
      "outputs": []
    },
    {
      "cell_type": "code",
      "source": [
        "np.save(f\"{data_dir}/X_train_final.npy\", X_train)\n",
        "np.save(f\"{data_dir}/X_test_final.npy\", X_test)"
      ],
      "metadata": {
        "id": "MU7RrsTTEcHm"
      },
      "execution_count": null,
      "outputs": []
    },
    {
      "cell_type": "code",
      "source": [
        "X_train = np.load(f\"{data_dir}/X_train_final.npy\")\n",
        "X_test = np.load(f\"{data_dir}/X_test_final.npy\")"
      ],
      "metadata": {
        "id": "fCPhY97FEcya"
      },
      "execution_count": null,
      "outputs": []
    },
    {
      "cell_type": "code",
      "source": [
        "y_train = train['Inhibition'].values\n",
        "# groups = train['orig_id'].values\n",
        "groups = train['scaffold'].values\n",
        "\n",
        "# --- 평가 지표 ---\n",
        "def nrmse(y_true, y_pred):\n",
        "    return np.sqrt(mean_squared_error(y_true, y_pred)) / (y_true.max() - y_true.min())\n",
        "def final_score(y_true, y_pred):\n",
        "    A = nrmse(y_true, y_pred)\n",
        "    B, _ = pearsonr(y_true, y_pred)\n",
        "    return 0.5 * (1 - min(A, 1)) + 0.5 * B\n",
        "\n",
        "# --- Optuna + XGB ---\n",
        "sampler = optuna.samplers.TPESampler(seed=42)\n",
        "pruner  = MedianPruner(n_startup_trials=1, n_warmup_steps=1)\n",
        "study   = optuna.create_study(direction='maximize', sampler=sampler, pruner=pruner)\n",
        "\n",
        "def objective(trial):\n",
        "    params = {\n",
        "        'n_estimators': trial.suggest_int    ('n_estimators',   50, 300),\n",
        "        'max_depth':    trial.suggest_int    ('max_depth',      3, 12),\n",
        "        'learning_rate':trial.suggest_float  ('learning_rate',  1e-3, 0.1, log=True),\n",
        "        'subsample':    trial.suggest_float  ('subsample',      0.5, 1.0),\n",
        "        'colsample_bytree': trial.suggest_float('colsample_bytree', 0.5, 1.0),\n",
        "        'reg_alpha':    trial.suggest_float  ('reg_alpha',      1e-8, 10.0, log=True),\n",
        "        'reg_lambda':   trial.suggest_float  ('reg_lambda',     1e-8, 10.0, log=True),\n",
        "        'random_state': 42,\n",
        "        'n_jobs':      -1\n",
        "    }\n",
        "\n",
        "    oof = np.zeros(len(y_train))\n",
        "    cv  = GroupKFold(n_splits=3)\n",
        "    for tr_idx, vl_idx in cv.split(X_train, y_train, groups):\n",
        "        model = XGBRegressor(**params)\n",
        "        model.fit(\n",
        "            X_train[tr_idx], y_train[tr_idx],\n",
        "            eval_set=[(X_train[vl_idx], y_train[vl_idx])],\n",
        "            verbose=False\n",
        "        )\n",
        "        oof[vl_idx] = model.predict(X_train[vl_idx])\n",
        "\n",
        "    return final_score(y_train, oof)\n",
        "\n",
        "# 최적화 실행\n",
        "study.optimize(objective, n_trials=10, timeout=10800)\n",
        "print('Best params:', study.best_trial.params)\n",
        "print('Best Score:', study.best_value)"
      ],
      "metadata": {
        "id": "E_XP4g7rfCtk"
      },
      "execution_count": null,
      "outputs": []
    },
    {
      "cell_type": "code",
      "source": [
        "# # --- Optuna + LGB ---\n",
        "# sampler = optuna.samplers.TPESampler(seed=42)\n",
        "# pruner = MedianPruner(n_startup_trials=1, n_warmup_steps=1)\n",
        "# study = optuna.create_study(direction='maximize', sampler=sampler, pruner=pruner)\n",
        "\n",
        "# def objective(trial):\n",
        "#     params = {\n",
        "#         'n_estimators': trial.suggest_int('n_estimators', 50, 200),\n",
        "#         'learning_rate': trial.suggest_float('lr', 1e-3, 5e-2, log=True),\n",
        "#         'num_leaves': trial.suggest_int('leaves', 16, 64),\n",
        "#         'min_child_samples': trial.suggest_int('min_child', 1, 10),\n",
        "#         'min_split_gain': trial.suggest_float('gain', 0.0, 0.2),\n",
        "#         'max_depth': -1\n",
        "#     }\n",
        "#     oof = np.zeros(len(y_train))\n",
        "#     cv = GroupKFold(n_splits=3)\n",
        "#     for tr_idx, vl_idx in cv.split(X_train, y_train, groups):\n",
        "#         model = LGBMRegressor(**params, random_state=42, n_jobs=-1, verbose=-1)\n",
        "#         model.fit(X_train[tr_idx], y_train[tr_idx])\n",
        "#         oof[vl_idx] = model.predict(X_train[vl_idx])\n",
        "#     return final_score(y_train, oof)\n",
        "\n",
        "# study.optimize(objective, n_trials=10, timeout=10800)\n",
        "# print('Best params:', study.best_trial.params)\n",
        "# print('Best Score:', study.best_value)\n",
        "# best_params = study.best_trial.params"
      ],
      "metadata": {
        "id": "CQVoKDTKIY12"
      },
      "execution_count": null,
      "outputs": []
    },
    {
      "cell_type": "code",
      "source": [
        "best_params = study.best_trial.params\n",
        "save_path = os.path.join(data_dir, 'best_params.pkl')\n",
        "\n",
        "with open(save_path, 'wb') as f:\n",
        "    pickle.dump(best_params, f)\n",
        "\n",
        "print(f\"Best params saved to {save_path}\")"
      ],
      "metadata": {
        "colab": {
          "base_uri": "https://localhost:8080/"
        },
        "id": "gN6wqD-9MN-B",
        "outputId": "22656810-c840-4b58-b5e5-7cfa4a856ef1"
      },
      "execution_count": null,
      "outputs": [
        {
          "output_type": "stream",
          "name": "stdout",
          "text": [
            "Best params saved to /content/drive/MyDrive/DACON/CYP3A4inh/best_params.pkl\n"
          ]
        }
      ]
    },
    {
      "cell_type": "code",
      "source": [
        "import pickle\n",
        "\n",
        "load_path = os.path.join(data_dir, 'best_params.pkl')\n",
        "\n",
        "with open(load_path, 'rb') as f:\n",
        "    best_params = pickle.load(f)\n",
        "\n",
        "print(\"Loaded best params:\", best_params)"
      ],
      "metadata": {
        "colab": {
          "base_uri": "https://localhost:8080/"
        },
        "id": "eJn1N6cvMNyU",
        "outputId": "ab347c78-44d8-427a-d2f0-b770d616f832"
      },
      "execution_count": null,
      "outputs": [
        {
          "output_type": "stream",
          "name": "stdout",
          "text": [
            "Loaded best params: {'n_estimators': 106, 'lr': 0.04123206532618727, 'leaves': 51, 'min_child': 6, 'gain': 0.031203728088487304}\n"
          ]
        }
      ]
    },
    {
      "cell_type": "code",
      "source": [
        "# param_fix = {\n",
        "#     'lr': 'learning_rate',\n",
        "#     'leaves': 'num_leaves',\n",
        "#     'min_child': 'min_child_samples',\n",
        "#     'gain': 'min_split_gain'\n",
        "# }\n",
        "# best_params_fixed = {param_fix.get(k, k): v for k, v in best_params.items()}"
      ],
      "metadata": {
        "id": "RN1e9-v-NjGk"
      },
      "execution_count": null,
      "outputs": []
    },
    {
      "cell_type": "code",
      "source": [
        "# from sklearn.ensemble import StackingRegressor, GradientBoostingRegressor\n",
        "# from sklearn.model_selection import GroupKFold\n",
        "# from lightgbm import LGBMRegressor\n",
        "# from sklearn.metrics import mean_squared_error\n",
        "\n",
        "# oof_preds = np.zeros(len(y_train))\n",
        "# gkf = GroupKFold(n_splits=3)\n",
        "\n",
        "# for fold, (tr_idx, val_idx) in enumerate(gkf.split(X_train, y_train, groups)):\n",
        "#     X_tr, X_vl = X_train[tr_idx], X_train[val_idx]\n",
        "#     y_tr, y_vl = y_train[tr_idx], y_train[val_idx]\n",
        "\n",
        "#     base_learners = [\n",
        "#         ('lgb', LGBMRegressor(**best_params_fixed, random_state=fold)),\n",
        "#         ('gbr', GradientBoostingRegressor(n_estimators=200, random_state=fold))\n",
        "#     ]\n",
        "\n",
        "#     stack = StackingRegressor(\n",
        "#         estimators=base_learners,\n",
        "#         final_estimator=LGBMRegressor(n_estimators=200, random_state=fold)\n",
        "#     )\n",
        "\n",
        "#     stack.fit(X_tr, y_tr)\n",
        "#     oof_preds[val_idx] = stack.predict(X_vl)\n",
        "\n",
        "#     print(f\"Fold {fold} RMSE: {np.sqrt(mean_squared_error(y_vl, oof_preds[val_idx])):.4f}\")\n",
        "#     print(f\"Fold {fold} Score: {final_score(y_vl, oof_preds[val_idx]):.4f}\")"
      ],
      "metadata": {
        "id": "7VFGFMfzJ9el"
      },
      "execution_count": null,
      "outputs": []
    },
    {
      "cell_type": "code",
      "source": [
        "# stack.fit(X_train, y_train)\n",
        "# test_preds = stack.predict(X_test)\n",
        "\n",
        "# submission = pd.DataFrame({'ID': test['ID'], 'Inhibition': test_preds})\n",
        "# submission.to_csv(os.path.join(data_dir, 'submission_0714_04.csv'), index=False)\n",
        "# print(\"Submission saved.\")"
      ],
      "metadata": {
        "id": "QOk-okxOKVLa"
      },
      "execution_count": null,
      "outputs": []
    },
    {
      "cell_type": "markdown",
      "source": [
        "### Ensemble 방식 적용"
      ],
      "metadata": {
        "id": "pStowGSXqYYL"
      }
    },
    {
      "cell_type": "code",
      "source": [
        "from sklearn import set_config\n",
        "set_config(enable_metadata_routing=False)\n",
        "\n",
        "import time\n",
        "from tqdm.auto import tqdm\n",
        "import json\n",
        "from sklearn.ensemble import RandomForestRegressor, GradientBoostingRegressor\n",
        "from sklearn.linear_model import BayesianRidge, ElasticNet\n",
        "from sklearn.neighbors import KNeighborsRegressor\n",
        "from sklearn.svm import SVR\n",
        "from sklearn.model_selection import GroupKFold, cross_val_predict\n",
        "from sklearn.metrics import mean_squared_error\n",
        "from lightgbm import LGBMRegressor\n",
        "from sklearn.compose import TransformedTargetRegressor\n",
        "from sklearn.pipeline import make_pipeline\n",
        "from sklearn.preprocessing import StandardScaler, MinMaxScaler\n",
        "\n",
        "# ── 베이스 러너 정의 ──\n",
        "base_learners = [\n",
        "    ('lgb', LGBMRegressor(**best_params, random_state=0)),\n",
        "    ('rf', RandomForestRegressor(n_estimators=100, random_state=0)),\n",
        "    ('gbr', GradientBoostingRegressor(n_estimators=200, random_state=0)),\n",
        "    ('knn', KNeighborsRegressor(n_neighbors=10)),\n",
        "    ('svr', SVR(kernel='rbf', C=1.0)),\n",
        "    ('br', BayesianRidge())\n",
        "]\n",
        "\n",
        "# ── OOF feature 생성 함수 (cross_val_predict) ──\n",
        "def make_oof_features(estimators, X, y, groups):\n",
        "\n",
        "    gkf = GroupKFold(n_splits=3)\n",
        "    n_learners = len(estimators)\n",
        "    oof_feats = np.zeros((X.shape[0], n_learners))\n",
        "\n",
        "    for i, (name, est) in enumerate(estimators):\n",
        "        start = time.time()\n",
        "        oof_feats[:, i] = cross_val_predict(\n",
        "            est,\n",
        "            X, y,\n",
        "            groups=groups,\n",
        "            cv=gkf,\n",
        "            n_jobs=-1,\n",
        "            method='predict'\n",
        "        )\n",
        "        elapsed = time.time() - start\n",
        "        print(f\"  • [{name}] done in {elapsed:.1f}s\")\n",
        "    return oof_feats\n",
        "\n",
        "# ── 평가지표 ──\n",
        "def final_score(y_true, y_pred):\n",
        "    A = np.sqrt(mean_squared_error(y_true, y_pred)) / (y_true.max() - y_true.min())\n",
        "    B = np.corrcoef(y_true, y_pred)[0, 1]\n",
        "    return 0.5 * (1 - min(A, 1)) + 0.5 * B\n",
        "\n",
        "# ── Optuna 메타‑러너 튜닝 ──\n",
        "X_oof = make_oof_features(base_learners, X_train, y_train, groups)\n",
        "\n",
        "def meta_objective(trial):\n",
        "    alpha    = trial.suggest_float('meta_alpha',    1e-4, 10.0, log=True)\n",
        "    l1_ratio = trial.suggest_float('meta_l1_ratio', 0.0, 1.0)\n",
        "    meta = ElasticNet(alpha=alpha, l1_ratio=l1_ratio, max_iter=10_000, random_state=42)\n",
        "    # meta = TransformedTargetRegressor(\n",
        "    #     regressor=ElasticNet(alpha=alpha, l1_ratio=l1_ratio, max_iter=10000, random_state=42),\n",
        "    #     func=np.log1p, inverse_func=np.expm1\n",
        "    # )                                         # 성능이 오히려 떨어지므로, skewed 아님\n",
        "\n",
        "    # OOF CV로 메타-러너 검증\n",
        "    gkf = GroupKFold(n_splits=3)\n",
        "    oof_meta = np.zeros(len(y_train))\n",
        "    for tr_idx, val_idx in gkf.split(X_oof, y_train, groups):\n",
        "        meta.fit(X_oof[tr_idx], y_train[tr_idx])\n",
        "        oof_meta[val_idx] = meta.predict(X_oof[val_idx])\n",
        "    return final_score(y_train, oof_meta)\n",
        "\n",
        "study = optuna.create_study(direction='maximize', sampler=optuna.samplers.TPESampler(seed=42))\n",
        "study.optimize(meta_objective, n_trials=5, timeout=3600, show_progress_bar=True)\n",
        "\n",
        "# ── 결과 저장 ──\n",
        "best_meta = study.best_trial.params\n",
        "to_save = {\n",
        "    'base_best_params': best_params,\n",
        "    'meta_alpha':    best_meta['meta_alpha'],\n",
        "    'meta_l1_ratio': best_meta['meta_l1_ratio']\n",
        "}\n",
        "with open('ensemble_params.json', 'w') as f:\n",
        "    json.dump(to_save, f, indent=2)"
      ],
      "metadata": {
        "colab": {
          "base_uri": "https://localhost:8080/",
          "height": 324,
          "referenced_widgets": [
            "f39099f21ae14eec9fb5cbd024ffc00c",
            "9db8374dbf1a426492529aa121e2bbf9",
            "646779feba124cd99b01aad45834e1c5",
            "cb4a825a56c54f40ba499029bb80044f",
            "4956611376e541c78bf760d991f6626c",
            "aaba8fa191a94e0b8b59e0361fdc3542",
            "7fd50e219fe4407da3ca4d5a2263eb52",
            "a96da46b166447cdb9f3e4d532e05bf3",
            "f28aa31568f2486cbc7b017df68a84db",
            "feb2351d220a4375ae56966e99d78f2a",
            "c170ae3811ae4065942d55b54f55b417"
          ]
        },
        "id": "hBKJ8t__qYBw",
        "outputId": "9ee2cbcb-05ff-49f0-eb54-0ba1378df255"
      },
      "execution_count": null,
      "outputs": [
        {
          "output_type": "stream",
          "name": "stdout",
          "text": [
            "  • [lgb] done in 47.8s\n"
          ]
        },
        {
          "output_type": "stream",
          "name": "stderr",
          "text": [
            "/usr/local/lib/python3.11/dist-packages/joblib/externals/loky/process_executor.py:782: UserWarning: A worker stopped while some jobs were given to the executor. This can be caused by a too short worker timeout or by a memory leak.\n",
            "  warnings.warn(\n"
          ]
        },
        {
          "output_type": "stream",
          "name": "stdout",
          "text": [
            "  • [rf] done in 941.6s\n",
            "  • [gbr] done in 1113.1s\n",
            "  • [knn] done in 24.2s\n",
            "  • [svr] done in 714.4s\n"
          ]
        },
        {
          "output_type": "stream",
          "name": "stderr",
          "text": [
            "[I 2025-07-15 09:36:49,049] A new study created in memory with name: no-name-0024be1d-1d9d-4e6d-8b3f-ce0b55f3e2e1\n"
          ]
        },
        {
          "output_type": "stream",
          "name": "stdout",
          "text": [
            "  • [br] done in 456.2s\n"
          ]
        },
        {
          "output_type": "display_data",
          "data": {
            "text/plain": [
              "  0%|          | 0/5 [00:00<?, ?it/s]"
            ],
            "application/vnd.jupyter.widget-view+json": {
              "version_major": 2,
              "version_minor": 0,
              "model_id": "f39099f21ae14eec9fb5cbd024ffc00c"
            }
          },
          "metadata": {}
        },
        {
          "output_type": "stream",
          "name": "stdout",
          "text": [
            "[I 2025-07-15 09:36:49,163] Trial 0 finished with value: 0.5681665016297952 and parameters: {'meta_alpha': 0.0074593432857265485, 'meta_l1_ratio': 0.9507143064099162}. Best is trial 0 with value: 0.5681665016297952.\n",
            "[I 2025-07-15 09:36:49,213] Trial 1 finished with value: 0.5725889198198411 and parameters: {'meta_alpha': 0.4570563099801455, 'meta_l1_ratio': 0.5986584841970366}. Best is trial 1 with value: 0.5725889198198411.\n",
            "[I 2025-07-15 09:36:49,254] Trial 2 finished with value: 0.5679017794474708 and parameters: {'meta_alpha': 0.0006026889128682511, 'meta_l1_ratio': 0.15599452033620265}. Best is trial 1 with value: 0.5725889198198411.\n",
            "[I 2025-07-15 09:36:49,289] Trial 3 finished with value: 0.5679040634746204 and parameters: {'meta_alpha': 0.00019517224641449495, 'meta_l1_ratio': 0.8661761457749352}. Best is trial 1 with value: 0.5725889198198411.\n",
            "[I 2025-07-15 09:36:49,327] Trial 4 finished with value: 0.5704055285738808 and parameters: {'meta_alpha': 0.10129197956845731, 'meta_l1_ratio': 0.7080725777960455}. Best is trial 1 with value: 0.5725889198198411.\n"
          ]
        }
      ]
    },
    {
      "cell_type": "code",
      "source": [
        "def meta_objective(trial):\n",
        "    alpha    = trial.suggest_float('meta_alpha',    1e-4, 10.0, log=True)\n",
        "    l1_ratio = trial.suggest_float('meta_l1_ratio', 0.0, 1.0)\n",
        "    meta = ElasticNet(alpha=alpha, l1_ratio=l1_ratio, max_iter=10_000, random_state=42)\n",
        "\n",
        "    # OOF CV로 메타-러너 검증\n",
        "    gkf = GroupKFold(n_splits=3)\n",
        "    oof_meta = np.zeros(len(y_train))\n",
        "    for tr_idx, val_idx in gkf.split(X_oof, y_train, groups):\n",
        "        meta.fit(X_oof[tr_idx], y_train[tr_idx])\n",
        "        oof_meta[val_idx] = meta.predict(X_oof[val_idx])\n",
        "    return final_score(y_train, oof_meta)\n",
        "\n",
        "study = optuna.create_study(direction='maximize', sampler=optuna.samplers.TPESampler(seed=42))\n",
        "study.optimize(meta_objective, n_trials=200, timeout=10800, show_progress_bar=True)\n",
        "\n",
        "# ── 결과 저장 ──\n",
        "best_meta = study.best_trial.params\n",
        "to_save = {\n",
        "    'base_best_params': best_params,\n",
        "    'meta_alpha':    best_meta['meta_alpha'],\n",
        "    'meta_l1_ratio': best_meta['meta_l1_ratio']\n",
        "}\n",
        "with open('ensemble_params.json', 'w') as f:\n",
        "    json.dump(to_save, f, indent=2)"
      ],
      "metadata": {
        "colab": {
          "base_uri": "https://localhost:8080/",
          "height": 1000,
          "referenced_widgets": [
            "1833d87e2eee4de1a785ecd70d105243",
            "42add5444722486aab8efe676d44ebcf",
            "caf3a8518a1d417690cc9f0e24457b46",
            "71611923e03645fa93d06bec8a57851e",
            "18c71fb3155d4b4ca899e004c650ca5b",
            "ad9699eedeee4a4a8f7d5d7bd1b3bfcd",
            "ce84e2f7d75f4229b0bc1ef1bb4e65c5",
            "8bcbae8b0ec444639a1abd6107442a88",
            "b4e31454e46846fca349965df1ac637f",
            "8e1091d49e77412fa9c62727d84afd9d",
            "6f18b63fa76a4e0e85e3998d06d963de"
          ]
        },
        "id": "aIRmqoAy-oBe",
        "outputId": "dc216e33-7d30-4027-feaf-7ffa581ba30d"
      },
      "execution_count": null,
      "outputs": [
        {
          "output_type": "stream",
          "name": "stderr",
          "text": [
            "[I 2025-07-15 09:39:45,306] A new study created in memory with name: no-name-271382d2-2fa1-43fd-bbd8-e2d3699749b6\n"
          ]
        },
        {
          "output_type": "display_data",
          "data": {
            "text/plain": [
              "  0%|          | 0/200 [00:00<?, ?it/s]"
            ],
            "application/vnd.jupyter.widget-view+json": {
              "version_major": 2,
              "version_minor": 0,
              "model_id": "1833d87e2eee4de1a785ecd70d105243"
            }
          },
          "metadata": {}
        },
        {
          "output_type": "stream",
          "name": "stdout",
          "text": [
            "[I 2025-07-15 09:39:45,381] Trial 0 finished with value: 0.5887278474761072 and parameters: {'meta_alpha': 0.0074593432857265485, 'meta_l1_ratio': 0.9507143064099162}. Best is trial 0 with value: 0.5887278474761072.\n",
            "[I 2025-07-15 09:39:45,432] Trial 1 finished with value: 0.5888631333058753 and parameters: {'meta_alpha': 0.4570563099801455, 'meta_l1_ratio': 0.5986584841970366}. Best is trial 1 with value: 0.5888631333058753.\n",
            "[I 2025-07-15 09:39:45,483] Trial 2 finished with value: 0.588727002602847 and parameters: {'meta_alpha': 0.0006026889128682511, 'meta_l1_ratio': 0.15599452033620265}. Best is trial 1 with value: 0.5888631333058753.\n",
            "[I 2025-07-15 09:39:45,525] Trial 3 finished with value: 0.5887267363214199 and parameters: {'meta_alpha': 0.00019517224641449495, 'meta_l1_ratio': 0.8661761457749352}. Best is trial 1 with value: 0.5888631333058753.\n",
            "[I 2025-07-15 09:39:45,567] Trial 4 finished with value: 0.5887526824257934 and parameters: {'meta_alpha': 0.10129197956845731, 'meta_l1_ratio': 0.7080725777960455}. Best is trial 1 with value: 0.5888631333058753.\n",
            "[I 2025-07-15 09:39:45,621] Trial 5 finished with value: 0.5887267136864975 and parameters: {'meta_alpha': 0.00012674255898937226, 'meta_l1_ratio': 0.9699098521619943}. Best is trial 1 with value: 0.5888631333058753.\n",
            "[I 2025-07-15 09:39:45,665] Trial 6 finished with value: 0.5893530827119634 and parameters: {'meta_alpha': 1.452824663751602, 'meta_l1_ratio': 0.21233911067827616}. Best is trial 6 with value: 0.5893530827119634.\n",
            "[I 2025-07-15 09:39:45,714] Trial 7 finished with value: 0.5887271086750321 and parameters: {'meta_alpha': 0.0008111941985431928, 'meta_l1_ratio': 0.18340450985343382}. Best is trial 6 with value: 0.5893530827119634.\n",
            "[I 2025-07-15 09:39:45,758] Trial 8 finished with value: 0.5887278771866123 and parameters: {'meta_alpha': 0.0033205591037519565, 'meta_l1_ratio': 0.5247564316322378}. Best is trial 6 with value: 0.5893530827119634.\n",
            "[I 2025-07-15 09:39:45,809] Trial 9 finished with value: 0.5887333026000696 and parameters: {'meta_alpha': 0.01444525102276306, 'meta_l1_ratio': 0.2912291401980419}. Best is trial 6 with value: 0.5893530827119634.\n",
            "[I 2025-07-15 09:39:45,881] Trial 10 finished with value: 0.5911994494689505 and parameters: {'meta_alpha': 7.7621203197524595, 'meta_l1_ratio': 0.005997182955817193}. Best is trial 10 with value: 0.5911994494689505.\n",
            "[I 2025-07-15 09:39:45,942] Trial 11 finished with value: 0.5910767904687986 and parameters: {'meta_alpha': 7.041830285015986, 'meta_l1_ratio': 0.005297120813991926}. Best is trial 10 with value: 0.5911994494689505.\n",
            "[I 2025-07-15 09:39:46,000] Trial 12 finished with value: 0.5913213276026492 and parameters: {'meta_alpha': 9.008292046338946, 'meta_l1_ratio': 0.03872519996118284}. Best is trial 12 with value: 0.5913213276026492.\n",
            "[I 2025-07-15 09:39:46,058] Trial 13 finished with value: 0.5913442898795914 and parameters: {'meta_alpha': 8.705297644839822, 'meta_l1_ratio': 0.005818862070021841}. Best is trial 13 with value: 0.5913442898795914.\n",
            "[I 2025-07-15 09:39:46,131] Trial 14 finished with value: 0.5891052424113498 and parameters: {'meta_alpha': 0.9978344081198032, 'meta_l1_ratio': 0.3748548597552711}. Best is trial 13 with value: 0.5913442898795914.\n",
            "[I 2025-07-15 09:39:46,201] Trial 15 finished with value: 0.5888075108651931 and parameters: {'meta_alpha': 0.19811568901258092, 'meta_l1_ratio': 0.3745318272718881}. Best is trial 13 with value: 0.5913442898795914.\n",
            "[I 2025-07-15 09:39:46,263] Trial 16 finished with value: 0.5897858668531968 and parameters: {'meta_alpha': 2.4025028336486938, 'meta_l1_ratio': 0.09225197111492751}. Best is trial 13 with value: 0.5913442898795914.\n",
            "[I 2025-07-15 09:39:46,298] Trial 17 finished with value: 0.5906979557551459 and parameters: {'meta_alpha': 9.634071121024771, 'meta_l1_ratio': 0.318286250124808}. Best is trial 13 with value: 0.5913442898795914.\n",
            "[I 2025-07-15 09:39:46,336] Trial 18 finished with value: 0.588766164527277 and parameters: {'meta_alpha': 0.07352836149311384, 'meta_l1_ratio': 0.1062738158465088}. Best is trial 13 with value: 0.5913442898795914.\n",
            "[I 2025-07-15 09:39:46,374] Trial 19 finished with value: 0.5895372912592264 and parameters: {'meta_alpha': 2.700934013350809, 'meta_l1_ratio': 0.4331963904533716}. Best is trial 13 with value: 0.5913442898795914.\n",
            "[I 2025-07-15 09:39:46,416] Trial 20 finished with value: 0.5889700811911825 and parameters: {'meta_alpha': 0.5346271942256048, 'meta_l1_ratio': 0.24080793750091012}. Best is trial 13 with value: 0.5913442898795914.\n",
            "[I 2025-07-15 09:39:46,455] Trial 21 finished with value: 0.5906394288113386 and parameters: {'meta_alpha': 5.05468823726668, 'meta_l1_ratio': 0.01955093196845112}. Best is trial 13 with value: 0.5913442898795914.\n",
            "[I 2025-07-15 09:39:46,494] Trial 22 finished with value: 0.59126622273271 and parameters: {'meta_alpha': 9.228779920775331, 'meta_l1_ratio': 0.07822589021184836}. Best is trial 13 with value: 0.5913442898795914.\n",
            "[I 2025-07-15 09:39:46,537] Trial 23 finished with value: 0.5898324143972604 and parameters: {'meta_alpha': 2.6097872703851945, 'meta_l1_ratio': 0.118465103606778}. Best is trial 13 with value: 0.5913442898795914.\n",
            "[I 2025-07-15 09:39:46,575] Trial 24 finished with value: 0.5890544531888018 and parameters: {'meta_alpha': 0.6261340296631464, 'meta_l1_ratio': 0.07263033636474803}. Best is trial 13 with value: 0.5913442898795914.\n",
            "[I 2025-07-15 09:39:46,612] Trial 25 finished with value: 0.5888482636385989 and parameters: {'meta_alpha': 0.26614016075329217, 'meta_l1_ratio': 0.2612504291764533}. Best is trial 13 with value: 0.5913442898795914.\n",
            "[I 2025-07-15 09:39:46,652] Trial 26 finished with value: 0.5900890683963448 and parameters: {'meta_alpha': 3.6392058584251106, 'meta_l1_ratio': 0.1641397750457539}. Best is trial 13 with value: 0.5913442898795914.\n",
            "[I 2025-07-15 09:39:46,692] Trial 27 finished with value: 0.5893544164786139 and parameters: {'meta_alpha': 1.267553250167487, 'meta_l1_ratio': 0.06952008477209164}. Best is trial 13 with value: 0.5913442898795914.\n",
            "[I 2025-07-15 09:39:46,731] Trial 28 finished with value: 0.5887390905874547 and parameters: {'meta_alpha': 0.05373423072972686, 'meta_l1_ratio': 0.7667565170975899}. Best is trial 13 with value: 0.5913442898795914.\n",
            "[I 2025-07-15 09:39:46,768] Trial 29 finished with value: 0.5900784600434095 and parameters: {'meta_alpha': 8.999219828026432, 'meta_l1_ratio': 0.5036010167023006}. Best is trial 13 with value: 0.5913442898795914.\n",
            "[I 2025-07-15 09:39:46,809] Trial 30 finished with value: 0.5887352330945855 and parameters: {'meta_alpha': 0.015217354431432127, 'meta_l1_ratio': 0.06416319083231545}. Best is trial 13 with value: 0.5913442898795914.\n",
            "[I 2025-07-15 09:39:46,848] Trial 31 finished with value: 0.5905862984840307 and parameters: {'meta_alpha': 4.89873202768458, 'meta_l1_ratio': 0.030323709495031898}. Best is trial 13 with value: 0.5913442898795914.\n",
            "[I 2025-07-15 09:39:46,888] Trial 32 finished with value: 0.5895345361858197 and parameters: {'meta_alpha': 1.6060443897204773, 'meta_l1_ratio': 0.009024218849216715}. Best is trial 13 with value: 0.5913442898795914.\n",
            "[I 2025-07-15 09:39:46,922] Trial 33 finished with value: 0.591162329786129 and parameters: {'meta_alpha': 9.691165309887092, 'meta_l1_ratio': 0.14607117805490086}. Best is trial 13 with value: 0.5913442898795914.\n",
            "[I 2025-07-15 09:39:46,962] Trial 34 finished with value: 0.5902306583534802 and parameters: {'meta_alpha': 4.302870089711445, 'meta_l1_ratio': 0.18257586616276322}. Best is trial 13 with value: 0.5913442898795914.\n",
            "[I 2025-07-15 09:39:47,001] Trial 35 finished with value: 0.5889237238857798 and parameters: {'meta_alpha': 0.7683033296615598, 'meta_l1_ratio': 0.6620388335761308}. Best is trial 13 with value: 0.5913442898795914.\n",
            "[I 2025-07-15 09:39:47,048] Trial 36 finished with value: 0.5888448335225787 and parameters: {'meta_alpha': 0.22528159538097495, 'meta_l1_ratio': 0.11549752157174697}. Best is trial 13 with value: 0.5913442898795914.\n",
            "[I 2025-07-15 09:39:47,087] Trial 37 finished with value: 0.5897547636439474 and parameters: {'meta_alpha': 2.132075905226658, 'meta_l1_ratio': 0.0037232033949493315}. Best is trial 13 with value: 0.5913442898795914.\n",
            "[I 2025-07-15 09:39:47,134] Trial 38 finished with value: 0.5887273507374876 and parameters: {'meta_alpha': 0.0035353281415501495, 'meta_l1_ratio': 0.9052975457060424}. Best is trial 13 with value: 0.5913442898795914.\n",
            "[I 2025-07-15 09:39:47,173] Trial 39 finished with value: 0.5903141309274962 and parameters: {'meta_alpha': 4.8817200192220005, 'meta_l1_ratio': 0.21263036293030746}. Best is trial 13 with value: 0.5913442898795914.\n",
            "[I 2025-07-15 09:39:47,213] Trial 40 finished with value: 0.5889435786128557 and parameters: {'meta_alpha': 0.40712465430096134, 'meta_l1_ratio': 0.07618281049594881}. Best is trial 13 with value: 0.5913442898795914.\n",
            "[I 2025-07-15 09:39:47,270] Trial 41 finished with value: 0.5909822505108145 and parameters: {'meta_alpha': 8.21345047995746, 'meta_l1_ratio': 0.14920678815537272}. Best is trial 13 with value: 0.5913442898795914.\n",
            "[I 2025-07-15 09:39:47,310] Trial 42 finished with value: 0.5911555711041157 and parameters: {'meta_alpha': 9.51366257178262, 'meta_l1_ratio': 0.14089867368518333}. Best is trial 13 with value: 0.5913442898795914.\n",
            "[I 2025-07-15 09:39:47,350] Trial 43 finished with value: 0.590239570464114 and parameters: {'meta_alpha': 3.6689854780415736, 'meta_l1_ratio': 0.044869133638993294}. Best is trial 13 with value: 0.5913442898795914.\n",
            "[I 2025-07-15 09:39:47,393] Trial 44 finished with value: 0.5892828222489818 and parameters: {'meta_alpha': 1.2340472330234136, 'meta_l1_ratio': 0.1857021544920646}. Best is trial 13 with value: 0.5913442898795914.\n",
            "[I 2025-07-15 09:39:47,432] Trial 45 finished with value: 0.5897034659342766 and parameters: {'meta_alpha': 5.719899329538656, 'meta_l1_ratio': 0.589537449893698}. Best is trial 13 with value: 0.5913442898795914.\n",
            "[I 2025-07-15 09:39:47,475] Trial 46 finished with value: 0.5887271724608388 and parameters: {'meta_alpha': 0.0010542893478118652, 'meta_l1_ratio': 0.33244908593351774}. Best is trial 13 with value: 0.5913442898795914.\n",
            "[I 2025-07-15 09:39:47,515] Trial 47 finished with value: 0.5895156316888648 and parameters: {'meta_alpha': 1.9733769716695206, 'meta_l1_ratio': 0.24091858472487507}. Best is trial 13 with value: 0.5913442898795914.\n",
            "[I 2025-07-15 09:39:47,555] Trial 48 finished with value: 0.5887268753521825 and parameters: {'meta_alpha': 0.0003722836772029032, 'meta_l1_ratio': 0.04616666426662303}. Best is trial 13 with value: 0.5913442898795914.\n",
            "[I 2025-07-15 09:39:47,592] Trial 49 finished with value: 0.5911999483246344 and parameters: {'meta_alpha': 9.5873685490939, 'meta_l1_ratio': 0.1256178924515639}. Best is trial 13 with value: 0.5913442898795914.\n",
            "[I 2025-07-15 09:39:47,633] Trial 50 finished with value: 0.5900178330620085 and parameters: {'meta_alpha': 3.147236460343587, 'meta_l1_ratio': 0.10406393502560679}. Best is trial 13 with value: 0.5913442898795914.\n",
            "[I 2025-07-15 09:39:47,673] Trial 51 finished with value: 0.5908158527989754 and parameters: {'meta_alpha': 6.847004781725416, 'meta_l1_ratio': 0.1316560229839079}. Best is trial 13 with value: 0.5913442898795914.\n",
            "[I 2025-07-15 09:39:47,718] Trial 52 finished with value: 0.5913792824466682 and parameters: {'meta_alpha': 9.62462597544302, 'meta_l1_ratio': 0.04852532784774431}. Best is trial 52 with value: 0.5913792824466682.\n",
            "[I 2025-07-15 09:39:47,757] Trial 53 finished with value: 0.590749604986885 and parameters: {'meta_alpha': 5.6810538058032325, 'meta_l1_ratio': 0.041221291492037425}. Best is trial 52 with value: 0.5913792824466682.\n",
            "[I 2025-07-15 09:39:47,795] Trial 54 finished with value: 0.5899987282302072 and parameters: {'meta_alpha': 3.037856669329251, 'meta_l1_ratio': 0.08980063378321208}. Best is trial 52 with value: 0.5913792824466682.\n",
            "[I 2025-07-15 09:39:47,835] Trial 55 finished with value: 0.5892437059405106 and parameters: {'meta_alpha': 0.9634864596358014, 'meta_l1_ratio': 0.0006818245516097537}. Best is trial 52 with value: 0.5913792824466682.\n",
            "[I 2025-07-15 09:39:47,873] Trial 56 finished with value: 0.5907929715156979 and parameters: {'meta_alpha': 5.900343668200548, 'meta_l1_ratio': 0.04301687505975717}. Best is trial 52 with value: 0.5913792824466682.\n",
            "[I 2025-07-15 09:39:47,909] Trial 57 finished with value: 0.5910333384811993 and parameters: {'meta_alpha': 9.943829737735324, 'meta_l1_ratio': 0.20739517494791734}. Best is trial 52 with value: 0.5913792824466682.\n",
            "[I 2025-07-15 09:39:47,950] Trial 58 finished with value: 0.5893489402402894 and parameters: {'meta_alpha': 1.8838765138435623, 'meta_l1_ratio': 0.4157808896308815}. Best is trial 52 with value: 0.5913792824466682.\n",
            "[I 2025-07-15 09:39:47,992] Trial 59 finished with value: 0.5901949147029681 and parameters: {'meta_alpha': 3.745909043680601, 'meta_l1_ratio': 0.10097475264428712}. Best is trial 52 with value: 0.5913792824466682.\n",
            "[I 2025-07-15 09:39:48,028] Trial 60 finished with value: 0.5888067899788553 and parameters: {'meta_alpha': 0.37865728744130295, 'meta_l1_ratio': 0.7929947995359711}. Best is trial 52 with value: 0.5913792824466682.\n",
            "[I 2025-07-15 09:39:48,061] Trial 61 finished with value: 0.590737886352416 and parameters: {'meta_alpha': 6.64263007446312, 'meta_l1_ratio': 0.15556309092615758}. Best is trial 52 with value: 0.5913792824466682.\n",
            "[I 2025-07-15 09:39:48,103] Trial 62 finished with value: 0.5913093097739791 and parameters: {'meta_alpha': 9.515459140336526, 'meta_l1_ratio': 0.07449979333582053}. Best is trial 52 with value: 0.5913792824466682.\n",
            "[I 2025-07-15 09:39:48,144] Trial 63 finished with value: 0.5899158558955376 and parameters: {'meta_alpha': 2.7220054353631196, 'meta_l1_ratio': 0.06992885350484336}. Best is trial 52 with value: 0.5913792824466682.\n",
            "[I 2025-07-15 09:39:48,182] Trial 64 finished with value: 0.5909365434205878 and parameters: {'meta_alpha': 6.522497765316484, 'meta_l1_ratio': 0.031058663062978095}. Best is trial 52 with value: 0.5913792824466682.\n",
            "[I 2025-07-15 09:39:48,219] Trial 65 finished with value: 0.5903061246097332 and parameters: {'meta_alpha': 4.074708846976948, 'meta_l1_ratio': 0.0831985450039107}. Best is trial 52 with value: 0.5913792824466682.\n",
            "[I 2025-07-15 09:39:48,269] Trial 66 finished with value: 0.5912075432152409 and parameters: {'meta_alpha': 9.585871785967532, 'meta_l1_ratio': 0.12235326705917181}. Best is trial 52 with value: 0.5913792824466682.\n",
            "[I 2025-07-15 09:39:48,324] Trial 67 finished with value: 0.5887293758823378 and parameters: {'meta_alpha': 0.021238434289313088, 'meta_l1_ratio': 0.9974698284809732}. Best is trial 52 with value: 0.5913792824466682.\n",
            "[I 2025-07-15 09:39:48,359] Trial 68 finished with value: 0.5892804816288089 and parameters: {'meta_alpha': 1.365733566867662, 'meta_l1_ratio': 0.2815531632433653}. Best is trial 52 with value: 0.5913792824466682.\n",
            "[I 2025-07-15 09:39:48,396] Trial 69 finished with value: 0.5903240644714999 and parameters: {'meta_alpha': 4.706309668324583, 'meta_l1_ratio': 0.1816306589838696}. Best is trial 52 with value: 0.5913792824466682.\n",
            "[I 2025-07-15 09:39:48,432] Trial 70 finished with value: 0.5912598408004186 and parameters: {'meta_alpha': 9.989308929010695, 'meta_l1_ratio': 0.11885216527138914}. Best is trial 52 with value: 0.5913792824466682.\n",
            "[I 2025-07-15 09:39:48,471] Trial 71 finished with value: 0.5912366357458131 and parameters: {'meta_alpha': 9.935158841855644, 'meta_l1_ratio': 0.1260378103734343}. Best is trial 52 with value: 0.5913792824466682.\n",
            "[I 2025-07-15 09:39:48,508] Trial 72 finished with value: 0.5909887115845976 and parameters: {'meta_alpha': 7.080606077406542, 'meta_l1_ratio': 0.05916614374013727}. Best is trial 52 with value: 0.5913792824466682.\n",
            "[I 2025-07-15 09:39:48,544] Trial 73 finished with value: 0.5897265824145833 and parameters: {'meta_alpha': 2.5592566468578757, 'meta_l1_ratio': 0.21233999621754818}. Best is trial 52 with value: 0.5913792824466682.\n",
            "[I 2025-07-15 09:39:48,585] Trial 74 finished with value: 0.5888080855562657 and parameters: {'meta_alpha': 0.1540016217471023, 'meta_l1_ratio': 0.11436430986402603}. Best is trial 52 with value: 0.5913792824466682.\n",
            "[I 2025-07-15 09:39:48,624] Trial 75 finished with value: 0.5904828679344627 and parameters: {'meta_alpha': 4.426143810772597, 'meta_l1_ratio': 0.017949311242295568}. Best is trial 52 with value: 0.5913792824466682.\n",
            "[I 2025-07-15 09:39:48,660] Trial 76 finished with value: 0.5910210402512105 and parameters: {'meta_alpha': 7.684643325366773, 'meta_l1_ratio': 0.09382340443235172}. Best is trial 52 with value: 0.5913792824466682.\n",
            "[I 2025-07-15 09:39:48,700] Trial 77 finished with value: 0.5899918975981487 and parameters: {'meta_alpha': 3.3229917862199785, 'meta_l1_ratio': 0.1732559819824463}. Best is trial 52 with value: 0.5913792824466682.\n",
            "[I 2025-07-15 09:39:48,739] Trial 78 finished with value: 0.58873073897202 and parameters: {'meta_alpha': 0.0071862548881467285, 'meta_l1_ratio': 0.06487487964845956}. Best is trial 52 with value: 0.5913792824466682.\n",
            "[I 2025-07-15 09:39:48,780] Trial 79 finished with value: 0.5908350446630046 and parameters: {'meta_alpha': 6.9914367994745215, 'meta_l1_ratio': 0.1339709606780624}. Best is trial 52 with value: 0.5913792824466682.\n",
            "[I 2025-07-15 09:39:48,819] Trial 80 finished with value: 0.5909554146226819 and parameters: {'meta_alpha': 9.945614729470032, 'meta_l1_ratio': 0.23634722095280397}. Best is trial 52 with value: 0.5913792824466682.\n",
            "[I 2025-07-15 09:39:48,858] Trial 81 finished with value: 0.5906006464910363 and parameters: {'meta_alpha': 5.620428729838195, 'meta_l1_ratio': 0.12690158033356755}. Best is trial 52 with value: 0.5913792824466682.\n",
            "[I 2025-07-15 09:39:48,898] Trial 82 finished with value: 0.5914540053860213 and parameters: {'meta_alpha': 9.422947055207999, 'meta_l1_ratio': 0.00014877668886842388}. Best is trial 82 with value: 0.5914540053860213.\n",
            "[I 2025-07-15 09:39:48,938] Trial 83 finished with value: 0.5905429997757167 and parameters: {'meta_alpha': 4.740002848450945, 'meta_l1_ratio': 0.03323136328164597}. Best is trial 82 with value: 0.5914540053860213.\n",
            "[I 2025-07-15 09:39:48,974] Trial 84 finished with value: 0.5911105906100454 and parameters: {'meta_alpha': 7.4094940806927045, 'meta_l1_ratio': 0.022878972422733346}. Best is trial 82 with value: 0.5914540053860213.\n",
            "[I 2025-07-15 09:39:49,011] Trial 85 finished with value: 0.5902624145763908 and parameters: {'meta_alpha': 3.587740687577455, 'meta_l1_ratio': 0.002673706770068236}. Best is trial 82 with value: 0.5914540053860213.\n",
            "[I 2025-07-15 09:39:49,056] Trial 86 finished with value: 0.5898078195182481 and parameters: {'meta_alpha': 2.384964922042175, 'meta_l1_ratio': 0.05926805519548445}. Best is trial 82 with value: 0.5914540053860213.\n",
            "[I 2025-07-15 09:39:49,098] Trial 87 finished with value: 0.5895437550406143 and parameters: {'meta_alpha': 1.7472549564321203, 'meta_l1_ratio': 0.08933634333302329}. Best is trial 82 with value: 0.5914540053860213.\n",
            "[I 2025-07-15 09:39:49,136] Trial 88 finished with value: 0.5911415121727521 and parameters: {'meta_alpha': 8.029751214692755, 'meta_l1_ratio': 0.05914330193485007}. Best is trial 82 with value: 0.5914540053860213.\n",
            "[I 2025-07-15 09:39:49,174] Trial 89 finished with value: 0.5904876140275254 and parameters: {'meta_alpha': 5.288550454528852, 'meta_l1_ratio': 0.15576177751734369}. Best is trial 82 with value: 0.5914540053860213.\n",
            "[I 2025-07-15 09:39:49,211] Trial 90 finished with value: 0.5912682480449434 and parameters: {'meta_alpha': 9.811742968119962, 'meta_l1_ratio': 0.10735293031340518}. Best is trial 82 with value: 0.5914540053860213.\n",
            "[I 2025-07-15 09:39:49,247] Trial 91 finished with value: 0.5912558974206733 and parameters: {'meta_alpha': 9.834641621706657, 'meta_l1_ratio': 0.11361122487751084}. Best is trial 82 with value: 0.5914540053860213.\n",
            "[I 2025-07-15 09:39:49,289] Trial 92 finished with value: 0.5887267220227259 and parameters: {'meta_alpha': 0.00011304641098712237, 'meta_l1_ratio': 0.09484854464609896}. Best is trial 82 with value: 0.5914540053860213.\n",
            "[I 2025-07-15 09:39:49,333] Trial 93 finished with value: 0.5907617382244926 and parameters: {'meta_alpha': 5.629276218811726, 'meta_l1_ratio': 0.026055369167613866}. Best is trial 82 with value: 0.5914540053860213.\n",
            "[I 2025-07-15 09:39:49,381] Trial 94 finished with value: 0.5911320328557671 and parameters: {'meta_alpha': 7.800771186824604, 'meta_l1_ratio': 0.045893375095458114}. Best is trial 82 with value: 0.5914540053860213.\n",
            "[I 2025-07-15 09:39:49,421] Trial 95 finished with value: 0.590169024102574 and parameters: {'meta_alpha': 4.119453659635944, 'meta_l1_ratio': 0.1957025993791351}. Best is trial 82 with value: 0.5914540053860213.\n",
            "[I 2025-07-15 09:39:49,457] Trial 96 finished with value: 0.590612654007018 and parameters: {'meta_alpha': 5.995001464787784, 'meta_l1_ratio': 0.1624818555317749}. Best is trial 82 with value: 0.5914540053860213.\n",
            "[I 2025-07-15 09:39:49,494] Trial 97 finished with value: 0.5913197245844538 and parameters: {'meta_alpha': 9.690284495917712, 'meta_l1_ratio': 0.07908584881483766}. Best is trial 82 with value: 0.5914540053860213.\n",
            "[I 2025-07-15 09:39:49,539] Trial 98 finished with value: 0.5894885513073651 and parameters: {'meta_alpha': 3.2158243276335274, 'meta_l1_ratio': 0.5547845428183136}. Best is trial 82 with value: 0.5914540053860213.\n",
            "[I 2025-07-15 09:39:49,579] Trial 99 finished with value: 0.5910086326487449 and parameters: {'meta_alpha': 7.448389182981993, 'meta_l1_ratio': 0.08126825925627879}. Best is trial 82 with value: 0.5914540053860213.\n",
            "[I 2025-07-15 09:39:49,615] Trial 100 finished with value: 0.5905412860230567 and parameters: {'meta_alpha': 5.179807761856819, 'meta_l1_ratio': 0.10608744844703616}. Best is trial 82 with value: 0.5914540053860213.\n",
            "[I 2025-07-15 09:39:49,652] Trial 101 finished with value: 0.5913910855572848 and parameters: {'meta_alpha': 9.702336560103568, 'meta_l1_ratio': 0.047424052553979704}. Best is trial 82 with value: 0.5914540053860213.\n",
            "[I 2025-07-15 09:39:49,692] Trial 102 finished with value: 0.5912611753626843 and parameters: {'meta_alpha': 8.122826949688104, 'meta_l1_ratio': 0.00369001798283767}. Best is trial 82 with value: 0.5914540053860213.\n",
            "[I 2025-07-15 09:39:49,731] Trial 103 finished with value: 0.5909526017824952 and parameters: {'meta_alpha': 6.493933587975922, 'meta_l1_ratio': 0.0181383617638455}. Best is trial 82 with value: 0.5914540053860213.\n",
            "[I 2025-07-15 09:39:49,771] Trial 104 finished with value: 0.5903752442271873 and parameters: {'meta_alpha': 4.10514332696211, 'meta_l1_ratio': 0.034552305321671625}. Best is trial 82 with value: 0.5914540053860213.\n",
            "[I 2025-07-15 09:39:49,811] Trial 105 finished with value: 0.5887568487986552 and parameters: {'meta_alpha': 0.0515341488329624, 'meta_l1_ratio': 0.0023495335626315243}. Best is trial 82 with value: 0.5914540053860213.\n",
            "[I 2025-07-15 09:39:49,851] Trial 106 finished with value: 0.5911068521284792 and parameters: {'meta_alpha': 7.724436946178623, 'meta_l1_ratio': 0.05274387341441311}. Best is trial 82 with value: 0.5914540053860213.\n",
            "[I 2025-07-15 09:39:49,892] Trial 107 finished with value: 0.5899602068516394 and parameters: {'meta_alpha': 2.8520751872655117, 'meta_l1_ratio': 0.06884625165956046}. Best is trial 82 with value: 0.5914540053860213.\n",
            "[I 2025-07-15 09:39:49,929] Trial 108 finished with value: 0.5905450172401816 and parameters: {'meta_alpha': 5.0319763218358045, 'meta_l1_ratio': 0.08134382196503254}. Best is trial 82 with value: 0.5914540053860213.\n",
            "[I 2025-07-15 09:39:49,967] Trial 109 finished with value: 0.5912476330360315 and parameters: {'meta_alpha': 8.233204911309025, 'meta_l1_ratio': 0.020025077005245806}. Best is trial 82 with value: 0.5914540053860213.\n",
            "[I 2025-07-15 09:39:50,006] Trial 110 finished with value: 0.5897781443049447 and parameters: {'meta_alpha': 2.2708710158302035, 'meta_l1_ratio': 0.04354731915732949}. Best is trial 82 with value: 0.5914540053860213.\n",
            "[I 2025-07-15 09:39:50,045] Trial 111 finished with value: 0.5912318062457678 and parameters: {'meta_alpha': 9.630234380158857, 'meta_l1_ratio': 0.11426550245741715}. Best is trial 82 with value: 0.5914540053860213.\n",
            "[I 2025-07-15 09:39:50,082] Trial 112 finished with value: 0.5908099124380096 and parameters: {'meta_alpha': 6.247222216875664, 'meta_l1_ratio': 0.07477001135158494}. Best is trial 82 with value: 0.5914540053860213.\n",
            "[I 2025-07-15 09:39:50,128] Trial 113 finished with value: 0.5911970959243199 and parameters: {'meta_alpha': 9.994806131221614, 'meta_l1_ratio': 0.14464423310839183}. Best is trial 82 with value: 0.5914540053860213.\n",
            "[I 2025-07-15 09:39:50,167] Trial 114 finished with value: 0.5911271413556622 and parameters: {'meta_alpha': 7.7438311301762495, 'meta_l1_ratio': 0.04372616065865029}. Best is trial 82 with value: 0.5914540053860213.\n",
            "[I 2025-07-15 09:39:50,203] Trial 115 finished with value: 0.5903213003574441 and parameters: {'meta_alpha': 4.189744665769428, 'meta_l1_ratio': 0.09513219548392764}. Best is trial 82 with value: 0.5914540053860213.\n",
            "[I 2025-07-15 09:39:50,245] Trial 116 finished with value: 0.5900357280329532 and parameters: {'meta_alpha': 5.971943911065608, 'meta_l1_ratio': 0.4532735364285545}. Best is trial 82 with value: 0.5914540053860213.\n",
            "[I 2025-07-15 09:39:50,284] Trial 117 finished with value: 0.5894143895761286 and parameters: {'meta_alpha': 9.978512827299815, 'meta_l1_ratio': 0.6567333577605339}. Best is trial 82 with value: 0.5914540053860213.\n",
            "[I 2025-07-15 09:39:50,322] Trial 118 finished with value: 0.5902024455117603 and parameters: {'meta_alpha': 3.393142187629443, 'meta_l1_ratio': 0.001887685167723114}. Best is trial 82 with value: 0.5914540053860213.\n",
            "[I 2025-07-15 09:39:50,358] Trial 119 finished with value: 0.5908952823954129 and parameters: {'meta_alpha': 6.5524334692285064, 'meta_l1_ratio': 0.05863447332800818}. Best is trial 82 with value: 0.5914540053860213.\n",
            "[I 2025-07-15 09:39:50,419] Trial 120 finished with value: 0.5887273636544472 and parameters: {'meta_alpha': 0.0011981072401388382, 'meta_l1_ratio': 0.02426194798833342}. Best is trial 82 with value: 0.5914540053860213.\n",
            "[I 2025-07-15 09:39:50,457] Trial 121 finished with value: 0.5912333873605067 and parameters: {'meta_alpha': 8.19793024325067, 'meta_l1_ratio': 0.02465466348906209}. Best is trial 82 with value: 0.5914540053860213.\n",
            "[I 2025-07-15 09:39:50,497] Trial 122 finished with value: 0.5911175900485129 and parameters: {'meta_alpha': 8.099035017454966, 'meta_l1_ratio': 0.076391191429808}. Best is trial 82 with value: 0.5914540053860213.\n",
            "[I 2025-07-15 09:39:50,536] Trial 123 finished with value: 0.5906174304174201 and parameters: {'meta_alpha': 4.956425135623785, 'meta_l1_ratio': 0.018342983635729136}. Best is trial 82 with value: 0.5914540053860213.\n",
            "[I 2025-07-15 09:39:50,576] Trial 124 finished with value: 0.5911847634707943 and parameters: {'meta_alpha': 7.611443653713545, 'meta_l1_ratio': 0.0002650562960547394}. Best is trial 82 with value: 0.5914540053860213.\n",
            "[I 2025-07-15 09:39:50,613] Trial 125 finished with value: 0.5912904098105056 and parameters: {'meta_alpha': 9.962340352678828, 'meta_l1_ratio': 0.10493578183411523}. Best is trial 82 with value: 0.5914540053860213.\n",
            "[I 2025-07-15 09:39:50,654] Trial 126 finished with value: 0.5904103664280654 and parameters: {'meta_alpha': 4.660649778914458, 'meta_l1_ratio': 0.11499912951038849}. Best is trial 82 with value: 0.5914540053860213.\n",
            "[I 2025-07-15 09:39:50,696] Trial 127 finished with value: 0.5907188937484069 and parameters: {'meta_alpha': 6.4155962576602175, 'meta_l1_ratio': 0.14484852456267477}. Best is trial 82 with value: 0.5914540053860213.\n",
            "[I 2025-07-15 09:39:50,736] Trial 128 finished with value: 0.591283630012382 and parameters: {'meta_alpha': 9.821753087582902, 'meta_l1_ratio': 0.10128583927399482}. Best is trial 82 with value: 0.5914540053860213.\n",
            "[I 2025-07-15 09:39:50,773] Trial 129 finished with value: 0.5902805596960369 and parameters: {'meta_alpha': 3.8625467878722435, 'meta_l1_ratio': 0.05722105355787743}. Best is trial 82 with value: 0.5914540053860213.\n",
            "[I 2025-07-15 09:39:50,815] Trial 130 finished with value: 0.5907030468259415 and parameters: {'meta_alpha': 5.792067455242449, 'meta_l1_ratio': 0.0849486435969882}. Best is trial 82 with value: 0.5914540053860213.\n",
            "[I 2025-07-15 09:39:50,858] Trial 131 finished with value: 0.5912921324288747 and parameters: {'meta_alpha': 9.988505864801498, 'meta_l1_ratio': 0.10539803105857352}. Best is trial 82 with value: 0.5914540053860213.\n",
            "[I 2025-07-15 09:39:50,896] Trial 132 finished with value: 0.591293762483307 and parameters: {'meta_alpha': 9.857463016655398, 'meta_l1_ratio': 0.09865049377094649}. Best is trial 82 with value: 0.5914540053860213.\n",
            "[I 2025-07-15 09:39:50,938] Trial 133 finished with value: 0.5911582762570107 and parameters: {'meta_alpha': 7.939849459057342, 'meta_l1_ratio': 0.043479418880027994}. Best is trial 82 with value: 0.5914540053860213.\n",
            "[I 2025-07-15 09:39:50,978] Trial 134 finished with value: 0.5907995681834023 and parameters: {'meta_alpha': 6.385751655285531, 'meta_l1_ratio': 0.09563399082304533}. Best is trial 82 with value: 0.5914540053860213.\n",
            "[I 2025-07-15 09:39:51,016] Trial 135 finished with value: 0.590551100152067 and parameters: {'meta_alpha': 4.989906684191432, 'meta_l1_ratio': 0.07039038651148713}. Best is trial 82 with value: 0.5914540053860213.\n",
            "[I 2025-07-15 09:39:51,052] Trial 136 finished with value: 0.5914372104487845 and parameters: {'meta_alpha': 9.899991554046073, 'meta_l1_ratio': 0.037107349563070706}. Best is trial 82 with value: 0.5914540053860213.\n",
            "[I 2025-07-15 09:39:51,089] Trial 137 finished with value: 0.5912117544822633 and parameters: {'meta_alpha': 9.926938711348173, 'meta_l1_ratio': 0.135805784457249}. Best is trial 82 with value: 0.5914540053860213.\n",
            "[I 2025-07-15 09:39:51,133] Trial 138 finished with value: 0.5907221642894352 and parameters: {'meta_alpha': 6.635910731280213, 'meta_l1_ratio': 0.16342646812702927}. Best is trial 82 with value: 0.5914540053860213.\n",
            "[I 2025-07-15 09:39:51,172] Trial 139 finished with value: 0.5905178992392012 and parameters: {'meta_alpha': 5.081742541352428, 'meta_l1_ratio': 0.10727765164519376}. Best is trial 82 with value: 0.5914540053860213.\n",
            "[I 2025-07-15 09:39:51,211] Trial 140 finished with value: 0.5903350424576304 and parameters: {'meta_alpha': 3.9859103803252474, 'meta_l1_ratio': 0.04047730022791851}. Best is trial 82 with value: 0.5914540053860213.\n",
            "[I 2025-07-15 09:39:51,249] Trial 141 finished with value: 0.591129303019838 and parameters: {'meta_alpha': 7.9224135035876415, 'meta_l1_ratio': 0.05706433922306289}. Best is trial 82 with value: 0.5914540053860213.\n",
            "[I 2025-07-15 09:39:51,290] Trial 142 finished with value: 0.5911004719866249 and parameters: {'meta_alpha': 8.061064797306344, 'meta_l1_ratio': 0.08214809110676424}. Best is trial 82 with value: 0.5914540053860213.\n",
            "[I 2025-07-15 09:39:51,332] Trial 143 finished with value: 0.5909304363207322 and parameters: {'meta_alpha': 6.542190778252995, 'meta_l1_ratio': 0.0370570153824245}. Best is trial 82 with value: 0.5914540053860213.\n",
            "[I 2025-07-15 09:39:51,369] Trial 144 finished with value: 0.5913600407478918 and parameters: {'meta_alpha': 9.81799619082589, 'meta_l1_ratio': 0.06775249036832853}. Best is trial 82 with value: 0.5914540053860213.\n",
            "[I 2025-07-15 09:39:51,407] Trial 145 finished with value: 0.5912859262045405 and parameters: {'meta_alpha': 9.756034795648246, 'meta_l1_ratio': 0.097152111873086}. Best is trial 82 with value: 0.5914540053860213.\n",
            "[I 2025-07-15 09:39:51,464] Trial 146 finished with value: 0.5912955560350933 and parameters: {'meta_alpha': 9.979638998133193, 'meta_l1_ratio': 0.10355798465612819}. Best is trial 82 with value: 0.5914540053860213.\n",
            "[I 2025-07-15 09:39:51,507] Trial 147 finished with value: 0.5912220757398661 and parameters: {'meta_alpha': 9.964792648047997, 'meta_l1_ratio': 0.1332161759315012}. Best is trial 82 with value: 0.5914540053860213.\n",
            "[I 2025-07-15 09:39:51,544] Trial 148 finished with value: 0.5906630490707447 and parameters: {'meta_alpha': 5.678964310224441, 'meta_l1_ratio': 0.0954745581210623}. Best is trial 82 with value: 0.5914540053860213.\n",
            "[I 2025-07-15 09:39:51,583] Trial 149 finished with value: 0.5888329801478233 and parameters: {'meta_alpha': 6.991889018856169, 'meta_l1_ratio': 0.8627121320322839}. Best is trial 82 with value: 0.5914540053860213.\n",
            "[I 2025-07-15 09:39:51,624] Trial 150 finished with value: 0.5904492104705703 and parameters: {'meta_alpha': 4.533894220505065, 'meta_l1_ratio': 0.06458864261242606}. Best is trial 82 with value: 0.5914540053860213.\n",
            "[I 2025-07-15 09:39:51,665] Trial 151 finished with value: 0.5912670788758196 and parameters: {'meta_alpha': 9.746284988245696, 'meta_l1_ratio': 0.10476612821594133}. Best is trial 82 with value: 0.5914540053860213.\n",
            "[I 2025-07-15 09:39:51,706] Trial 152 finished with value: 0.591157658138779 and parameters: {'meta_alpha': 8.297524786917537, 'meta_l1_ratio': 0.07073920186105717}. Best is trial 82 with value: 0.5914540053860213.\n",
            "[I 2025-07-15 09:39:51,743] Trial 153 finished with value: 0.5906526244143657 and parameters: {'meta_alpha': 6.315259157997231, 'meta_l1_ratio': 0.17199597525814492}. Best is trial 82 with value: 0.5914540053860213.\n",
            "[I 2025-07-15 09:39:51,785] Trial 154 finished with value: 0.5914001340947324 and parameters: {'meta_alpha': 9.863594873927024, 'meta_l1_ratio': 0.05208342310082584}. Best is trial 82 with value: 0.5914540053860213.\n",
            "[I 2025-07-15 09:39:51,825] Trial 155 finished with value: 0.591162151374928 and parameters: {'meta_alpha': 7.804145660935652, 'meta_l1_ratio': 0.030002844723775}. Best is trial 82 with value: 0.5914540053860213.\n",
            "[I 2025-07-15 09:39:51,865] Trial 156 finished with value: 0.5906914753503048 and parameters: {'meta_alpha': 5.463189880709099, 'meta_l1_ratio': 0.0480310180932795}. Best is trial 82 with value: 0.5914540053860213.\n",
            "[I 2025-07-15 09:39:51,903] Trial 157 finished with value: 0.5909674149942841 and parameters: {'meta_alpha': 7.18704607281149, 'meta_l1_ratio': 0.08038477552951945}. Best is trial 82 with value: 0.5914540053860213.\n",
            "[I 2025-07-15 09:39:51,946] Trial 158 finished with value: 0.5914847377734673 and parameters: {'meta_alpha': 9.964334142966477, 'meta_l1_ratio': 0.018412954144517796}. Best is trial 158 with value: 0.5914847377734673.\n",
            "[I 2025-07-15 09:39:51,986] Trial 159 finished with value: 0.5907762997383728 and parameters: {'meta_alpha': 5.647623616457354, 'meta_l1_ratio': 0.019120260594281444}. Best is trial 158 with value: 0.5914847377734673.\n",
            "[I 2025-07-15 09:39:52,021] Trial 160 finished with value: 0.5900781915822093 and parameters: {'meta_alpha': 3.1432051287727254, 'meta_l1_ratio': 0.0455278842284575}. Best is trial 158 with value: 0.5914847377734673.\n",
            "[I 2025-07-15 09:39:52,066] Trial 161 finished with value: 0.5913837480052294 and parameters: {'meta_alpha': 9.862248919108984, 'meta_l1_ratio': 0.05942879269527835}. Best is trial 158 with value: 0.5914847377734673.\n",
            "[I 2025-07-15 09:39:52,108] Trial 162 finished with value: 0.5911846836651091 and parameters: {'meta_alpha': 7.884554168334065, 'meta_l1_ratio': 0.02481509195049848}. Best is trial 158 with value: 0.5914847377734673.\n",
            "[I 2025-07-15 09:39:52,148] Trial 163 finished with value: 0.5913751867972814 and parameters: {'meta_alpha': 9.76545599118475, 'meta_l1_ratio': 0.05816235977486516}. Best is trial 158 with value: 0.5914847377734673.\n",
            "[I 2025-07-15 09:39:52,187] Trial 164 finished with value: 0.5909332663844802 and parameters: {'meta_alpha': 6.757228733142194, 'meta_l1_ratio': 0.05837022769033471}. Best is trial 158 with value: 0.5914847377734673.\n",
            "[I 2025-07-15 09:39:52,230] Trial 165 finished with value: 0.591241127633397 and parameters: {'meta_alpha': 8.14371941042466, 'meta_l1_ratio': 0.016292243398922712}. Best is trial 158 with value: 0.5914847377734673.\n",
            "[I 2025-07-15 09:39:52,270] Trial 166 finished with value: 0.5914339489565664 and parameters: {'meta_alpha': 9.881767617127137, 'meta_l1_ratio': 0.037613873723831986}. Best is trial 158 with value: 0.5914847377734673.\n",
            "[I 2025-07-15 09:39:52,312] Trial 167 finished with value: 0.5904985621779231 and parameters: {'meta_alpha': 4.578681020275421, 'meta_l1_ratio': 0.035881301161163795}. Best is trial 158 with value: 0.5914847377734673.\n",
            "[I 2025-07-15 09:39:52,351] Trial 168 finished with value: 0.5903130784796682 and parameters: {'meta_alpha': 6.47367537084397, 'meta_l1_ratio': 0.3536019955901586}. Best is trial 158 with value: 0.5914847377734673.\n",
            "[I 2025-07-15 09:39:52,391] Trial 169 finished with value: 0.588731688219642 and parameters: {'meta_alpha': 0.008546420412675802, 'meta_l1_ratio': 0.0009096111046958399}. Best is trial 158 with value: 0.5914847377734673.\n",
            "[I 2025-07-15 09:39:52,431] Trial 170 finished with value: 0.5911306179107771 and parameters: {'meta_alpha': 7.935884703364479, 'meta_l1_ratio': 0.05744645553817848}. Best is trial 158 with value: 0.5914847377734673.\n",
            "[I 2025-07-15 09:39:52,477] Trial 171 finished with value: 0.5913332501588278 and parameters: {'meta_alpha': 9.714462729552688, 'meta_l1_ratio': 0.07432674068970796}. Best is trial 158 with value: 0.5914847377734673.\n",
            "[I 2025-07-15 09:39:52,522] Trial 172 finished with value: 0.5911405304594515 and parameters: {'meta_alpha': 8.21352055543925, 'meta_l1_ratio': 0.07324829564031637}. Best is trial 158 with value: 0.5914847377734673.\n",
            "[I 2025-07-15 09:39:52,562] Trial 173 finished with value: 0.5907182795756049 and parameters: {'meta_alpha': 5.5040350831058, 'meta_l1_ratio': 0.03649790928884251}. Best is trial 158 with value: 0.5914847377734673.\n",
            "[I 2025-07-15 09:39:52,600] Trial 174 finished with value: 0.5914068792788313 and parameters: {'meta_alpha': 9.97588564386993, 'meta_l1_ratio': 0.054947374417781046}. Best is trial 158 with value: 0.5914847377734673.\n",
            "[I 2025-07-15 09:39:52,638] Trial 175 finished with value: 0.5910070133497278 and parameters: {'meta_alpha': 6.7743328614073794, 'meta_l1_ratio': 0.017412533748958146}. Best is trial 158 with value: 0.5914847377734673.\n",
            "[I 2025-07-15 09:39:52,677] Trial 176 finished with value: 0.5911660036931673 and parameters: {'meta_alpha': 8.124632559117103, 'meta_l1_ratio': 0.053883682592165374}. Best is trial 158 with value: 0.5914847377734673.\n",
            "[I 2025-07-15 09:39:52,716] Trial 177 finished with value: 0.5914580732837798 and parameters: {'meta_alpha': 9.975934889850036, 'meta_l1_ratio': 0.03160664476386721}. Best is trial 158 with value: 0.5914847377734673.\n",
            "[I 2025-07-15 09:39:52,756] Trial 178 finished with value: 0.5908282271600322 and parameters: {'meta_alpha': 5.982196599548219, 'meta_l1_ratio': 0.031650940429942306}. Best is trial 158 with value: 0.5914847377734673.\n",
            "[I 2025-07-15 09:39:52,796] Trial 179 finished with value: 0.5915139274605705 and parameters: {'meta_alpha': 9.968535139653175, 'meta_l1_ratio': 0.004616628626512666}. Best is trial 179 with value: 0.5915139274605705.\n",
            "[I 2025-07-15 09:39:52,837] Trial 180 finished with value: 0.5910566164414897 and parameters: {'meta_alpha': 6.91118470095636, 'meta_l1_ratio': 0.0031275507685864417}. Best is trial 179 with value: 0.5915139274605705.\n",
            "[I 2025-07-15 09:39:52,875] Trial 181 finished with value: 0.5914736572711945 and parameters: {'meta_alpha': 9.920099007896157, 'meta_l1_ratio': 0.021049366705658164}. Best is trial 179 with value: 0.5915139274605705.\n",
            "[I 2025-07-15 09:39:52,916] Trial 182 finished with value: 0.5911605101064314 and parameters: {'meta_alpha': 7.694945525806603, 'meta_l1_ratio': 0.021484032868145275}. Best is trial 179 with value: 0.5915139274605705.\n",
            "[I 2025-07-15 09:39:52,955] Trial 183 finished with value: 0.5907184720363099 and parameters: {'meta_alpha': 5.514205409092134, 'meta_l1_ratio': 0.037843915083473616}. Best is trial 179 with value: 0.5915139274605705.\n",
            "[I 2025-07-15 09:39:52,999] Trial 184 finished with value: 0.5887267729920285 and parameters: {'meta_alpha': 0.00019147713764070627, 'meta_l1_ratio': 0.002549250419451754}. Best is trial 179 with value: 0.5915139274605705.\n",
            "[I 2025-07-15 09:39:53,036] Trial 185 finished with value: 0.591172581728276 and parameters: {'meta_alpha': 8.20703462151067, 'meta_l1_ratio': 0.056730932998703056}. Best is trial 179 with value: 0.5915139274605705.\n",
            "[I 2025-07-15 09:39:53,080] Trial 186 finished with value: 0.5912457148208444 and parameters: {'meta_alpha': 8.245713393677882, 'meta_l1_ratio': 0.02197568076280378}. Best is trial 179 with value: 0.5915139274605705.\n",
            "[I 2025-07-15 09:39:53,122] Trial 187 finished with value: 0.5914100747163282 and parameters: {'meta_alpha': 9.838203980591764, 'meta_l1_ratio': 0.046169040689892235}. Best is trial 179 with value: 0.5915139274605705.\n",
            "[I 2025-07-15 09:39:53,161] Trial 188 finished with value: 0.5887929868223579 and parameters: {'meta_alpha': 0.11750892164079191, 'meta_l1_ratio': 0.04117573902334661}. Best is trial 179 with value: 0.5915139274605705.\n",
            "[I 2025-07-15 09:39:53,199] Trial 189 finished with value: 0.5889003082724291 and parameters: {'meta_alpha': 0.31925692144814827, 'meta_l1_ratio': 0.06195283892530151}. Best is trial 179 with value: 0.5915139274605705.\n",
            "[I 2025-07-15 09:39:53,240] Trial 190 finished with value: 0.5905665436891923 and parameters: {'meta_alpha': 4.65892953100457, 'meta_l1_ratio': 0.0009061223096640258}. Best is trial 179 with value: 0.5915139274605705.\n",
            "[I 2025-07-15 09:39:53,279] Trial 191 finished with value: 0.5913129656220871 and parameters: {'meta_alpha': 9.492635074200079, 'meta_l1_ratio': 0.0716017521692184}. Best is trial 179 with value: 0.5915139274605705.\n",
            "[I 2025-07-15 09:39:53,315] Trial 192 finished with value: 0.5909753351908595 and parameters: {'meta_alpha': 6.857573783205465, 'meta_l1_ratio': 0.04472893243759728}. Best is trial 179 with value: 0.5915139274605705.\n",
            "[I 2025-07-15 09:39:53,356] Trial 193 finished with value: 0.5912813211317696 and parameters: {'meta_alpha': 8.469336910356091, 'meta_l1_ratio': 0.020738506391050147}. Best is trial 179 with value: 0.5915139274605705.\n",
            "[I 2025-07-15 09:39:53,397] Trial 194 finished with value: 0.5913463910067568 and parameters: {'meta_alpha': 9.819508207055291, 'meta_l1_ratio': 0.07389987613720128}. Best is trial 179 with value: 0.5915139274605705.\n",
            "[I 2025-07-15 09:39:53,450] Trial 195 finished with value: 0.5914008099651284 and parameters: {'meta_alpha': 9.812407170490014, 'meta_l1_ratio': 0.049014163048804}. Best is trial 179 with value: 0.5915139274605705.\n",
            "[I 2025-07-15 09:39:53,488] Trial 196 finished with value: 0.5908849355637102 and parameters: {'meta_alpha': 6.293177072135648, 'meta_l1_ratio': 0.03532447455742495}. Best is trial 179 with value: 0.5915139274605705.\n",
            "[I 2025-07-15 09:39:53,542] Trial 197 finished with value: 0.5910075444055575 and parameters: {'meta_alpha': 7.1321923330737, 'meta_l1_ratio': 0.05384580718119992}. Best is trial 179 with value: 0.5915139274605705.\n",
            "[I 2025-07-15 09:39:53,580] Trial 198 finished with value: 0.5914548502705638 and parameters: {'meta_alpha': 9.80355497991867, 'meta_l1_ratio': 0.02338168749711797}. Best is trial 179 with value: 0.5915139274605705.\n",
            "[I 2025-07-15 09:39:53,619] Trial 199 finished with value: 0.5914313156369637 and parameters: {'meta_alpha': 9.508235192501713, 'meta_l1_ratio': 0.016918531545770873}. Best is trial 179 with value: 0.5915139274605705.\n"
          ]
        }
      ]
    },
    {
      "cell_type": "code",
      "source": [
        "with open('ensemble_params.json', 'r') as f:\n",
        "    saved = json.load(f)\n",
        "print(saved)"
      ],
      "metadata": {
        "colab": {
          "base_uri": "https://localhost:8080/"
        },
        "id": "0OXH_GwyANfe",
        "outputId": "81d5f8cc-1585-4c0b-aa72-a9bda9a0f31b"
      },
      "execution_count": null,
      "outputs": [
        {
          "output_type": "stream",
          "name": "stdout",
          "text": [
            "{'base_best_params': {'n_estimators': 106, 'lr': 0.04123206532618727, 'leaves': 51, 'min_child': 6, 'gain': 0.031203728088487304}, 'meta_alpha': 9.968535139653175, 'meta_l1_ratio': 0.004616628626512666}\n"
          ]
        }
      ]
    },
    {
      "cell_type": "code",
      "source": [
        "# 1) Load saved params\n",
        "with open('ensemble_params.json', 'r') as f:\n",
        "    saved = json.load(f)\n",
        "\n",
        "raw_params = saved['base_best_params']\n",
        "corrected_params = {}\n",
        "param_mapping = {\n",
        "    'leaves': 'num_leaves',\n",
        "    'lr': 'learning_rate',\n",
        "    'min_child': 'min_child_samples'\n",
        "}\n",
        "for key, value in raw_params.items():\n",
        "    if key in param_mapping:\n",
        "        corrected_params[param_mapping[key]] = value\n",
        "    elif key != 'gain':  # 'gain'은 제거\n",
        "        corrected_params[key] = value\n",
        "\n",
        "\n",
        "# 2) Reconstruct base learners\n",
        "base_learners = [\n",
        "    ('lgb', LGBMRegressor(**corrected_params, random_state=0)),\n",
        "    ('rf', RandomForestRegressor(n_estimators=100, random_state=0)),\n",
        "    ('gbr', GradientBoostingRegressor(n_estimators=200, random_state=0)),\n",
        "    ('knn', KNeighborsRegressor(n_neighbors=10)),\n",
        "    ('svr', SVR(kernel='rbf', C=1.0)),\n",
        "    ('br', BayesianRidge())\n",
        "]\n",
        "\n",
        "# 3) Reconstruct meta-learner\n",
        "meta = ElasticNet(\n",
        "    alpha=saved['meta_alpha'],\n",
        "    l1_ratio=saved['meta_l1_ratio'],\n",
        "    max_iter=10000,\n",
        "    random_state=42\n",
        ")\n",
        "\n",
        "# 4) Fit base learners on full training data\n",
        "for _, est in base_learners:\n",
        "    est.fit(X_train, y_train)\n",
        "\n",
        "# 5) Generate OOF-features (reuse the function from Cell 1)\n",
        "X_oof = make_oof_features(base_learners, X_train, y_train, groups)\n",
        "\n",
        "# 6) Train meta-learner on those OOF-features\n",
        "meta.fit(X_oof, y_train)\n",
        "\n",
        "# 7) Final OOF evaluation\n",
        "oof_preds = meta.predict(X_oof)\n",
        "A = np.sqrt(mean_squared_error(y_train, oof_preds)) / (y_train.max() - y_train.min())\n",
        "B = np.corrcoef(y_train, oof_preds)[0, 1]\n",
        "print(f\"Final OOF Score: {0.5*(1-min(A,1))+0.5*B:.4f}\")"
      ],
      "metadata": {
        "colab": {
          "base_uri": "https://localhost:8080/"
        },
        "id": "VX3wNLToqswl",
        "outputId": "771f47ef-cff3-4803-c333-71d56d6220e0"
      },
      "execution_count": null,
      "outputs": [
        {
          "output_type": "stream",
          "name": "stdout",
          "text": [
            "[LightGBM] [Info] Auto-choosing col-wise multi-threading, the overhead of testing was 0.573436 seconds.\n",
            "You can set `force_col_wise=true` to remove the overhead.\n",
            "[LightGBM] [Info] Total Bins 72286\n",
            "[LightGBM] [Info] Number of data points in the train set: 5043, number of used features: 4485\n",
            "[LightGBM] [Info] Start training from score 33.221831\n",
            "  • [lgb] done in 48.1s\n",
            "  • [rf] done in 529.8s\n",
            "  • [gbr] done in 538.2s\n",
            "  • [knn] done in 6.9s\n",
            "  • [svr] done in 191.4s\n",
            "  • [br] done in 143.3s\n",
            "Final OOF Score: 0.5904\n"
          ]
        }
      ]
    },
    {
      "cell_type": "code",
      "source": [
        "meta"
      ],
      "metadata": {
        "id": "b2UEbOmjLozs"
      },
      "execution_count": null,
      "outputs": []
    },
    {
      "cell_type": "code",
      "source": [
        "X_test_oof = np.column_stack([\n",
        "    est.predict(X_test) for _, est in base_learners\n",
        "])\n",
        "\n",
        "# 3. Fit meta model correctly!\n",
        "meta.fit(X_oof, y_train)  # ✅ 반드시 OOF 기반으로 학습해야 함\n",
        "\n",
        "# 4. Predict test\n",
        "test_preds = meta.predict(X_test_oof)\n",
        "\n",
        "submission = pd.DataFrame({'ID': test['ID'], 'Inhibition': test_preds})\n",
        "submission.to_csv(os.path.join(data_dir, 'submission_0715_03.csv'), index=False)\n",
        "print(\"Submission saved.\")"
      ],
      "metadata": {
        "colab": {
          "base_uri": "https://localhost:8080/"
        },
        "id": "AsWaDn4aBsCs",
        "outputId": "b1f59ed7-396b-4bca-d391-33de325fd170"
      },
      "execution_count": null,
      "outputs": [
        {
          "output_type": "stream",
          "name": "stderr",
          "text": [
            "/usr/local/lib/python3.11/dist-packages/sklearn/utils/validation.py:2739: UserWarning: X does not have valid feature names, but LGBMRegressor was fitted with feature names\n",
            "  warnings.warn(\n"
          ]
        },
        {
          "output_type": "stream",
          "name": "stdout",
          "text": [
            "Submission saved.\n"
          ]
        }
      ]
    },
    {
      "cell_type": "code",
      "source": [
        "test_preds"
      ],
      "metadata": {
        "colab": {
          "base_uri": "https://localhost:8080/"
        },
        "id": "GAMuK_3UMa0g",
        "outputId": "2cc4b5ee-b7e8-49a5-8d76-549aaf09a6da"
      },
      "execution_count": null,
      "outputs": [
        {
          "output_type": "execute_result",
          "data": {
            "text/plain": [
              "array([40.90410818, 35.3782997 , 31.32129982, 38.20618554, 37.63725646,\n",
              "       26.22450996, 33.25893206, 24.0843206 , 34.96050264, 19.6827928 ,\n",
              "       18.47347827, 25.36793227, 26.04433582, 23.4568672 , 25.4774488 ,\n",
              "       20.41936059, 26.16882413, 51.5264106 , 43.4185765 , 28.60267098,\n",
              "       33.08508428, 33.58853819, 38.13592569, 35.53305165, 33.93249271,\n",
              "       40.21294551, 32.02588557, 32.04831481, 28.75610032, 28.72729213,\n",
              "       42.82861752, 30.0668528 , 25.43542533, 42.19277086, 28.1090521 ,\n",
              "       23.53799586, 58.82139459, 25.31951967, 25.36711289, 27.57170033,\n",
              "       38.59130293, 41.0815515 , 23.42359877, 33.60359157, 31.12940712,\n",
              "       47.48002059, 46.08671849, 51.98373976, 34.45073204, 30.76498685,\n",
              "       36.6486429 , 54.83776136, 45.21187885, 25.92299236, 28.48678542,\n",
              "       60.96293502, 30.01805172, 19.60141438, 43.24069935, 34.65434862,\n",
              "       15.15459514, 29.88779834, 23.43479511, 31.6730739 , 38.28251407,\n",
              "       24.84495354, 37.83541608, 37.94069079, 34.6876126 , 24.62522826,\n",
              "       27.22753838, 42.11982396, 31.82506276, 21.30361656, 39.47365005,\n",
              "       23.89578766, 37.80932358, 24.09287587, 38.18204608, 21.90754467,\n",
              "       31.61877224, 24.14140586, 29.72996072, 35.24069456, 35.09025045,\n",
              "       42.51319786, 37.46047518, 30.73368962, 21.02966656, 34.73780236,\n",
              "       17.96936253, 42.47333111, 40.06365582, 26.08197692, 33.81907207,\n",
              "       31.44157935, 56.18459939, 47.88675946, 39.18649678, 33.19470154])"
            ]
          },
          "metadata": {},
          "execution_count": 34
        }
      ]
    }
  ]
}